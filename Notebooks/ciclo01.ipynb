{
 "cells": [
  {
   "cell_type": "markdown",
   "metadata": {},
   "source": [
    "# Health Insurance Cross Sell Prediction 🏠 🏥"
   ]
  },
  {
   "cell_type": "markdown",
   "metadata": {},
   "source": [
    "Our client is an Insurance company that has provided Health Insurance to its customers now they need your help in building a model to predict whether the policyholders (customers) from past year will also be interested in Vehicle Insurance provided by the company.\n",
    "\n",
    "An insurance policy is an arrangement by which a company undertakes to provide a guarantee of compensation for specified loss, damage, illness, or death in return for the payment of a specified premium. A premium is a sum of money that the customer needs to pay regularly to an insurance company for this guarantee.\n",
    "\n",
    "For example, you may pay a premium of Rs. 5000 each year for a health insurance cover of Rs. 200,000/- so that if, God forbid, you fall ill and need to be hospitalised in that year, the insurance provider company will bear the cost of hospitalisation etc. for upto Rs. 200,000. Now if you are wondering how can company bear such high hospitalisation cost when it charges a premium of only Rs. 5000/-, that is where the concept of probabilities comes in picture. For example, like you, there may be 100 customers who would be paying a premium of Rs. 5000 every year, but only a few of them (say 2-3) would get hospitalised that year and not everyone. This way everyone shares the risk of everyone else.\n",
    "\n",
    "Just like medical insurance, there is vehicle insurance where every year customer needs to pay a premium of certain amount to insurance provider company so that in case of unfortunate accident by the vehicle, the insurance provider company will provide a compensation (called ‘sum assured’) to the customer.\n",
    "\n",
    "Building a model to predict whether a customer would be interested in Vehicle Insurance is extremely helpful for the company because it can then accordingly plan its communication strategy to reach out to those customers and optimise its business model and revenue.\n",
    "\n",
    "Now, in order to predict, whether the customer would be interested in Vehicle insurance, you have information about demographics (gender, age, region code type), Vehicles (Vehicle Age, Damage), Policy (Premium, sourcing channel) etc.\n",
    "\n",
    "<center><img width=\"40%\" src=\"https://img.freepik.com/free-vector/social-security-concept-illustration_114360-17279.jpg?t=st=1731539901~exp=1731543501~hmac=f2cec6918cf5f73b2fabc8333bffb8216ee41c5c08ac1326536af5fd3c35c89b&w=1380\"></center>\n",
    "\n",
    "**VARIABLES**\n",
    "\n",
    "* `id`:   Unique ID for the customer\n",
    "* `Gender`:   Gender of the customer\n",
    "* `Age`:\tAge of the customer\n",
    "* `Driving_License`:\t0 : Customer does not have DL, 1 : Customer already has DL\n",
    "* `Region_Code`:\tUnique code for the region of the customer\n",
    "* `Previously_Insured`:\t1 : Customer already has Vehicle Insurance, 0 : Customer doesn't have Vehicle Insurance\n",
    "* `Vehicle_Age`:\tAge of the Vehicle\n",
    "* `Vehicle_Damage`:\t1 : Customer got his/her vehicle damaged in the past. 0 : Customer didn't get his/her vehicle damaged in the past.\n",
    "* `Annual_Premium`:\tThe amount customer needs to pay as premium in the year\n",
    "* `Policy_Sales_Channel`: Anonymized Code for the channel of outreaching to the customer ie. Different Agents, Over Mail, Over Phone, In Person, etc.\n",
    "* `Vintage`:\tNumber of Days, Customer has been associated with the company\n",
    "* `Response`:\t1 : Customer is interested, 0 : Customer is not interested\n",
    "\n",
    "ASSUMPTION : The response  = 0, means that the response was a negative and not a non response.\n"
   ]
  },
  {
   "cell_type": "markdown",
   "metadata": {},
   "source": [
    "## 0.0 - Imports"
   ]
  },
  {
   "cell_type": "markdown",
   "metadata": {},
   "source": [
    "### 0.1 - Libraries"
   ]
  },
  {
   "cell_type": "code",
   "execution_count": 1,
   "metadata": {},
   "outputs": [],
   "source": [
    "import pandas as pd\n",
    "import numpy as np\n",
    "import seaborn as sns\n",
    "\n",
    "import matplotlib.pyplot as plt"
   ]
  },
  {
   "cell_type": "markdown",
   "metadata": {},
   "source": [
    "### 0.2 - Helper Functions"
   ]
  },
  {
   "cell_type": "code",
   "execution_count": 2,
   "metadata": {},
   "outputs": [],
   "source": [
    "def plot_percentage_by_category(df, category_col, target_col, figsize=(10, 6)):\n",
    "    \"\"\"\n",
    "    Plots a bar plot showing the percentage of target = 1 by category, with bars representing 100% behind.\n",
    "\n",
    "    Parameters:\n",
    "    df (pandas.DataFrame): DataFrame containing the data.\n",
    "    category_col (str): Column name for the categories (y-axis).\n",
    "    target_col (str): Column name for the target values (x-axis).\n",
    "    \"\"\"\n",
    "    # Change the category_col to str\n",
    "    df[category_col] = df[category_col].astype(str)\n",
    "\n",
    "\n",
    "    # Calculate the percentage of target = 1 for each category\n",
    "    percentages = df.groupby(category_col)[target_col].mean() * 100\n",
    "\n",
    "    # Calculate total count and percentage for each category relative to entire dataset\n",
    "    total_count = df.groupby(category_col)[target_col].count()\n",
    "    total_percentage = (total_count / df.shape[0]) * 100\n",
    "\n",
    "    # Sort categories by descending order of percentages\n",
    "    percentages = percentages.sort_values(ascending=False)\n",
    "    total_percentage = total_percentage.reindex(percentages.index)  # Reindex to match order\n",
    "\n",
    "    # Plotting\n",
    "    plt.figure(figsize=figsize)  # Adjust the figure size as needed\n",
    "\n",
    "    # Using Seaborn style and color palette\n",
    "    sns.set_style(\"white\")  # Remove grid and use white background\n",
    "\n",
    "    # Light blue color for 100% bars\n",
    "    color_100 = 'lightblue'\n",
    "\n",
    "    # Single shade of blue for percentage bars\n",
    "    color_percentage = 'steelblue'\n",
    "\n",
    "    # Convert index to string for proper plotting\n",
    "    categories = percentages.index.astype(str)\n",
    "\n",
    "    # Plotting 100% bars\n",
    "    bars_100 = plt.barh(categories, [100] * len(percentages), color=color_100, edgecolor='black')\n",
    "\n",
    "    # Adding quantities and percentages on top of 100% bars\n",
    "    for i, bar in enumerate(bars_100):\n",
    "        category = categories[i]\n",
    "        plt.text(bar.get_width() + 1, bar.get_y() + bar.get_height()/2,\n",
    "                 f'{total_count[category]} ({total_percentage[category]:.2f}%)',\n",
    "                 va='center', ha='left', fontsize=10)\n",
    "\n",
    "    # Plotting percentage bars\n",
    "    bars = plt.barh(categories, percentages, color=color_percentage, edgecolor='black')\n",
    "\n",
    "    # Adding percentages values inside the bars\n",
    "    for bar in bars:\n",
    "        plt.text(bar.get_width() + 1, bar.get_y() + bar.get_height()/2, f'{bar.get_width():.2f}%',\n",
    "                 va='center', ha='left', fontsize=10)\n",
    "\n",
    "    # Removing spines (borders)\n",
    "    sns.despine()\n",
    "\n",
    "    # Adding labels and title\n",
    "    plt.xlabel('Percentage (%)')\n",
    "    plt.ylabel(category_col)\n",
    "    plt.title(f'Percentage of {target_col} = 1 by {category_col}')\n",
    "\n",
    "    # Show plot\n",
    "    plt.show()\n"
   ]
  },
  {
   "cell_type": "markdown",
   "metadata": {},
   "source": [
    "### 0.3 - Loading Data Set"
   ]
  },
  {
   "cell_type": "code",
   "execution_count": 3,
   "metadata": {},
   "outputs": [],
   "source": [
    "df_raw = pd.read_csv('/Users/henriquekubo/Documents/repos/health/health_insurance/data/train.csv')\n",
    "df1 = df_raw.copy()\n",
    "df1.columns = df1.columns.str.lower()"
   ]
  },
  {
   "cell_type": "code",
   "execution_count": null,
   "metadata": {},
   "outputs": [],
   "source": [
    "df1.head()"
   ]
  },
  {
   "cell_type": "markdown",
   "metadata": {},
   "source": [
    "## 1.0 - Data Description"
   ]
  },
  {
   "cell_type": "markdown",
   "metadata": {},
   "source": [
    "### 1.1 - Data Dimension"
   ]
  },
  {
   "cell_type": "code",
   "execution_count": null,
   "metadata": {},
   "outputs": [],
   "source": [
    "print(f'Number of rows: {df1.shape[0]}')\n",
    "print(f'Number of columns: {df1.shape[1]}')"
   ]
  },
  {
   "cell_type": "markdown",
   "metadata": {},
   "source": [
    "### 1.2 - Data Types"
   ]
  },
  {
   "cell_type": "code",
   "execution_count": null,
   "metadata": {},
   "outputs": [],
   "source": [
    "df1.dtypes"
   ]
  },
  {
   "cell_type": "markdown",
   "metadata": {},
   "source": [
    "### 1.3 - Check NA"
   ]
  },
  {
   "cell_type": "code",
   "execution_count": null,
   "metadata": {},
   "outputs": [],
   "source": [
    "df1.isna().sum()"
   ]
  },
  {
   "cell_type": "markdown",
   "metadata": {},
   "source": [
    "### 1.4 - Data Descriptive"
   ]
  },
  {
   "cell_type": "markdown",
   "metadata": {},
   "source": [
    "We will separate the dataset into categorical and numerical variables, and then check the statistical data in the numerical variables.\n",
    "\n",
    "Separating a dataset into categorical and numerical variables is a crucial preprocessing step in machine learning for several reasons:\n",
    "\n",
    "**1. Applying Appropriate Algorithms:** \n",
    "\n",
    "Different machine learning algorithms are designed to handle different data types.  Many algorithms, like linear regression or support vector machines, work best with numerical data.  Categorical data often needs to be transformed (e.g., one-hot encoding) before being used in these models. By separating the data types, you can apply the most effective algorithms for each.\n",
    "\n",
    "**2. Feature Engineering:**\n",
    "\n",
    "Separating the variables allows you to perform specific feature engineering techniques for each data type.  For numerical features, you might consider scaling, normalization, or creating new features based on mathematical relationships. For categorical features, you could explore techniques like one-hot encoding, label encoding, or frequency encoding to make them suitable for machine learning models.\n",
    "\n",
    "**3. Improved Model Performance:**\n",
    "\n",
    "Properly handling categorical and numerical variables can significantly improve the performance and accuracy of your machine learning models. By applying appropriate preprocessing techniques, you can help the model better understand the underlying patterns in the data and make more accurate predictions.\n",
    "\n",
    "**4.  Data Understanding and Visualization:**\n",
    "\n",
    "Analyzing numerical and categorical variables separately can provide valuable insights into the data. You can calculate descriptive statistics for numerical features (mean, median, standard deviation) and explore the distribution of categorical features (frequency counts, proportions). This helps in understanding the characteristics of the data and identifying potential issues like outliers or class imbalances.\n",
    "\n",
    "**In summary:** Separating a dataset into categorical and numerical variables is essential for effective data preprocessing, feature engineering, and model selection, ultimately leading to improved model performance and better understanding of the data.\n"
   ]
  },
  {
   "cell_type": "code",
   "execution_count": 8,
   "metadata": {},
   "outputs": [],
   "source": [
    "num_attributes = df1.select_dtypes(include= ['int64', 'float64'])\n",
    "cat_attributes = df1.select_dtypes(exclude= ['int64', 'float64', 'datetime64[ns]'])"
   ]
  },
  {
   "cell_type": "code",
   "execution_count": null,
   "metadata": {},
   "outputs": [],
   "source": [
    "# Central Tendency - Mean, Median\n",
    "ct1 = pd.DataFrame( num_attributes.apply( np.mean ) ).T\n",
    "ct2 = pd.DataFrame( num_attributes.apply( np.median ) ).T\n",
    "\n",
    "# dispersion - std, min, max, range, skew, kurtosis\n",
    "d1 = pd.DataFrame( num_attributes.apply( np.std ) ).T \n",
    "d2 = pd.DataFrame( num_attributes.apply( min ) ).T \n",
    "d3 = pd.DataFrame( num_attributes.apply( max ) ).T \n",
    "d4 = pd.DataFrame( num_attributes.apply( lambda x: x.max() - x.min() ) ).T \n",
    "d5 = pd.DataFrame( num_attributes.apply( lambda x: x.skew() ) ).T \n",
    "d6 = pd.DataFrame( num_attributes.apply( lambda x: x.kurtosis() ) ).T \n",
    "\n",
    "# concatenar\n",
    "m = pd.concat( [d2, d3, d4, ct1, ct2, d1, d5, d6] ).T.reset_index()\n",
    "m.columns = ['attributes', 'min', 'max', 'range', 'mean', 'median', 'std', 'skew', 'kurtosis']\n",
    "m"
   ]
  },
  {
   "cell_type": "markdown",
   "metadata": {},
   "source": [
    "## 2.0 - Feature Engineering"
   ]
  },
  {
   "cell_type": "markdown",
   "metadata": {},
   "source": [
    "Feature engineering is essentially prepping your data for machine learning.  Think of it like this: you wouldn't feed a car raw crude oil, you'd refine it into gasoline first. Feature engineering does that for your data!\n",
    "\n",
    "Here's why it's important:\n",
    "\n",
    "* **Boosts accuracy:**  It helps your model find the important information and ignore the distractions.\n",
    "* **Makes data usable:** It transforms data into the right format for your model to understand.\n",
    "* **Helps your model learn better:**  It can simplify things and highlight the important patterns.\n",
    "\n",
    "\n",
    "By doing good feature engineering, you help your machine learning model make better predictions and understand your data more effectively.\n"
   ]
  },
  {
   "cell_type": "code",
   "execution_count": 10,
   "metadata": {},
   "outputs": [],
   "source": [
    "df2 =  df1.copy()"
   ]
  },
  {
   "cell_type": "code",
   "execution_count": 11,
   "metadata": {},
   "outputs": [],
   "source": [
    "# vehicle age\n",
    "df2['vehicle_age'] =  df2['vehicle_age'].apply( lambda x: 'over_2_years' if x == '> 2 Years' else 'between_1_2_year' if x == '1-2 Year' else 'below_1_year' ) \n",
    "\n",
    "# vehicle damage\n",
    "df2['vehicle_damage'] =  df2['vehicle_damage'].apply( lambda x: 1 if x == 'Yes' else 0 )"
   ]
  },
  {
   "cell_type": "code",
   "execution_count": null,
   "metadata": {},
   "outputs": [],
   "source": [
    "df2.head()"
   ]
  },
  {
   "cell_type": "markdown",
   "metadata": {},
   "source": [
    "## 3.0 - Hypothesis"
   ]
  },
  {
   "cell_type": "markdown",
   "metadata": {},
   "source": [
    "Hypotheses act as a roadmap for data analysis, providing:\n",
    "\n",
    "* **Direction:** Focus your analysis on specific business questions.\n",
    "* **Structure:** Organize your exploration and interpretation of data.\n",
    "* **Validation:** Test your assumptions and ensure findings are relevant.\n",
    "* **Communication:**  Clearly convey your results and justify conclusions.\n",
    "\n",
    "Ultimately, hypotheses bring purpose and clarity to your data analysis, leading to more efficient, impactful insights that can be translated into valuable actions for the business team.\n",
    "Here are some hypotheses to check it out:"
   ]
  },
  {
   "cell_type": "markdown",
   "metadata": {},
   "source": [
    "* **H1** - Younger customers may be more likely to purchase car insurance due to a higher probability of buying their first car or being interested in newer models that require insurance.\n",
    "* **H2** - Men may show greater interest in car insurance compared to women, possibly due to a cultural association with driving.\n",
    "* **H3** -  Customers in urban areas or with higher population density may be more prone to purchasing car insurance due to the greater need for transportation and increased risk of accidents.\n",
    "* **H4** - Customers who already have health insurance and also own a vehicle are more likely to purchase car insurance.\n",
    "* **H5** - Long-time customers with a good payment history may be more likely to purchase another product from the insurer, such as car insurance.\n",
    "* **H6** - Customers who purchased health insurance through a specific channel (online, phone, agent) may be more likely to purchase car insurance through the same channel."
   ]
  },
  {
   "cell_type": "markdown",
   "metadata": {},
   "source": [
    "## 4.0 - EDA"
   ]
  },
  {
   "cell_type": "markdown",
   "metadata": {},
   "source": [
    "EDA is like getting to know your data before making any big decisions. It helps you find hidden patterns, spot errors, choose the right tools, and ultimately, make sure your analysis is on the right track. Think of it as the foundation for a strong and insightful data analysis!\n",
    "I'll check my hypothesis here as well"
   ]
  },
  {
   "cell_type": "code",
   "execution_count": 13,
   "metadata": {},
   "outputs": [],
   "source": [
    "df4 = df2.copy()"
   ]
  },
  {
   "cell_type": "markdown",
   "metadata": {},
   "source": [
    "### 4.1 - Univariate Analysis"
   ]
  },
  {
   "cell_type": "markdown",
   "metadata": {},
   "source": [
    "Univariate analysis is like taking a magnifying glass to each individual feature in your data. It's the simplest form of data analysis, where you focus on understanding one variable at a time"
   ]
  },
  {
   "cell_type": "markdown",
   "metadata": {},
   "source": [
    "#### 4.1.1 - Testing Hypothesis"
   ]
  },
  {
   "cell_type": "markdown",
   "metadata": {},
   "source": [
    "##### H1 - Younger customers may be more likely to purchase car insurance due to a higher probability of buying their first car or being interested in newer models that require insurance. (F)"
   ]
  },
  {
   "cell_type": "markdown",
   "metadata": {},
   "source": [
    "We can see that younger people are not interested in car insurance, instead, midle age are more likely to hire the insurance"
   ]
  },
  {
   "cell_type": "code",
   "execution_count": 14,
   "metadata": {},
   "outputs": [],
   "source": [
    "aux00 = df4.loc[df4['response'] == 0, 'age']\n",
    "aux01 = df4.loc[df4['response'] == 1, 'age']\n"
   ]
  },
  {
   "cell_type": "code",
   "execution_count": null,
   "metadata": {},
   "outputs": [],
   "source": [
    "sns.set_theme(style=\"whitegrid\")\n",
    "fig, axes = plt.subplots(1, 2, figsize=(10, 5))\n",
    "\n",
    "sns.histplot(aux00, ax=axes[0], color='skyblue', label='No Interest')\n",
    "sns.histplot(aux01, ax=axes[1], color='lightcoral', label='Yes Interest')\n",
    "\n",
    "axes[0].legend()\n",
    "axes[1].legend()\n",
    "\n",
    "plt.tight_layout()\n",
    "plt.show()"
   ]
  },
  {
   "cell_type": "markdown",
   "metadata": {},
   "source": [
    "##### H2 - Men may show greater interest in car insurance compared to women, possibly due to a cultural association with driving. (T)"
   ]
  },
  {
   "cell_type": "markdown",
   "metadata": {},
   "source": [
    "Apparently, men tend to purchase car insurance; among those who did, 61% were men."
   ]
  },
  {
   "cell_type": "code",
   "execution_count": null,
   "metadata": {},
   "outputs": [],
   "source": [
    "aux00 = df4.loc[df4['response'] == 0, 'gender']\n",
    "aux01 = df4.loc[df4['response'] == 1, 'gender']\n",
    "\n",
    "sns.set_theme(style=\"whitegrid\")\n",
    "fig, axes = plt.subplots(1, 2, figsize=(10, 5))\n",
    "\n",
    "sns.countplot(aux00, ax=axes[0], color='skyblue', label='No Interest')\n",
    "sns.countplot(aux01, ax=axes[1], color='lightcoral', label='Yes Interest')\n",
    "\n",
    "axes[0].legend()\n",
    "axes[1].legend()\n",
    "\n",
    "plt.tight_layout()\n",
    "plt.show()"
   ]
  },
  {
   "cell_type": "code",
   "execution_count": null,
   "metadata": {},
   "outputs": [],
   "source": [
    "round(len(df4[(df4['response'] == 1) & (df4['gender'] == 'Male')]) / len(df4[df4['response'] == 1]) * 100,2)"
   ]
  },
  {
   "cell_type": "code",
   "execution_count": null,
   "metadata": {},
   "outputs": [],
   "source": [
    "round(len(df4[(df4['response'] == 1) & (df4['gender'] == 'Female')]) / len(df4[df4['response'] == 1]) * 100,2)"
   ]
  },
  {
   "cell_type": "markdown",
   "metadata": {},
   "source": [
    "##### H3 -  Customers in urban areas or with higher population density may be more prone to purchasing car insurance due to the greater need for transportation and increased risk of accidents. ( - )"
   ]
  },
  {
   "cell_type": "markdown",
   "metadata": {},
   "source": [
    "We can't know for sure if it's an urban, rural, or major city area. What we can do is see if the regions affect the decision to have or not have car insurance, and with this information, there's no much that we can analise, apparently, region 28 has a great number of insured, but, it can be an outlier."
   ]
  },
  {
   "cell_type": "code",
   "execution_count": null,
   "metadata": {},
   "outputs": [],
   "source": [
    "aux00 = df4[df4['response'] == 1]['region_code']\n",
    "sns.histplot(aux00)"
   ]
  },
  {
   "cell_type": "markdown",
   "metadata": {},
   "source": [
    "##### H4 - Customers who already have an car insurance  are more likely to decline this offer (T)"
   ]
  },
  {
   "cell_type": "markdown",
   "metadata": {},
   "source": [
    "That's kind obvious, but it is best to make sure, as we can see, who has as insurance, has a NO responde in 99% of the time"
   ]
  },
  {
   "cell_type": "code",
   "execution_count": 20,
   "metadata": {},
   "outputs": [],
   "source": [
    "aux02 = df4.loc[df4['response'] == 0, 'previously_insured']\n",
    "aux03 = df4.loc[df4['response'] == 1, 'previously_insured']\n",
    "\n",
    "sns.set_theme(style=\"whitegrid\")\n",
    "fig, axes = plt.subplots(1, 2, figsize=(10, 5))\n",
    "\n",
    "sns.countplot(aux02, ax=axes[0], color='skyblue', label='No Interest')\n",
    "sns.countplot(aux03, ax=axes[1], color='lightcoral', label='Yes Interest')\n",
    "\n",
    "axes[0].legend()\n",
    "axes[1].legend()\n",
    "\n",
    "plt.tight_layout()\n",
    "plt.show()"
   ]
  },
  {
   "cell_type": "markdown",
   "metadata": {},
   "source": [
    "##### H5 - If the vehicle has been damaged, then the vehicle insurance interest is greater. (T)"
   ]
  },
  {
   "cell_type": "markdown",
   "metadata": {},
   "source": [
    "It seems that if a person has already had their vehicle in an accident, they are more likely to purchase car insurance. \n"
   ]
  },
  {
   "cell_type": "code",
   "execution_count": null,
   "metadata": {},
   "outputs": [],
   "source": [
    "aux00 = df4.loc[df4['response'] == 0, 'vehicle_damage']\n",
    "aux01 = df4.loc[df4['response'] == 1, 'vehicle_damage']\n",
    "\n",
    "\n",
    "fig, axes = plt.subplots(1, 2, figsize=(10, 5))\n",
    "\n",
    "sns.countplot(aux00, ax=axes[0], color='skyblue', label='No Interest')\n",
    "sns.countplot(aux01, ax=axes[1], color='lightcoral', label='Yes Interest')\n",
    "\n",
    "axes[0].legend()\n",
    "axes[1].legend()\n",
    "\n",
    "plt.tight_layout()\n",
    "plt.show()"
   ]
  },
  {
   "cell_type": "markdown",
   "metadata": {},
   "source": [
    "##### H6 - Customers with older vehicle have less interest on vehicle insurance. (F)"
   ]
  },
  {
   "cell_type": "markdown",
   "metadata": {},
   "source": [
    "Customers with older vehicle have more interest on vehicle insurance. This is curious too, people with less vehicle age tend to preserve their vehicles earlier, but that's not the case."
   ]
  },
  {
   "cell_type": "code",
   "execution_count": null,
   "metadata": {},
   "outputs": [],
   "source": [
    "aux00 = df4.loc[df4['response'] == 0, 'vehicle_age']\n",
    "aux01 = df4.loc[df4['response'] == 1, 'vehicle_age']\n",
    "\n",
    "sns.set_theme(style=\"whitegrid\")\n",
    "fig, axes = plt.subplots(1, 2, figsize=(10, 5))\n",
    "\n",
    "sns.countplot(aux00, ax=axes[0], color='skyblue', label='No Interest')\n",
    "sns.countplot(aux01, ax=axes[1], color='lightcoral', label='Yes Interest')\n",
    "\n",
    "axes[0].legend()\n",
    "axes[1].legend()\n",
    "\n",
    "plt.tight_layout()\n",
    "plt.show()"
   ]
  },
  {
   "cell_type": "markdown",
   "metadata": {},
   "source": [
    "## 5.0 - Feature Selection"
   ]
  },
  {
   "cell_type": "markdown",
   "metadata": {},
   "source": [
    "## 6.0 - Data Preparation"
   ]
  },
  {
   "cell_type": "markdown",
   "metadata": {},
   "source": [
    "## 7.0 - Machine Learning"
   ]
  },
  {
   "cell_type": "code",
   "execution_count": null,
   "metadata": {},
   "outputs": [],
   "source": []
  },
  {
   "cell_type": "code",
   "execution_count": null,
   "metadata": {},
   "outputs": [],
   "source": []
  },
  {
   "cell_type": "code",
   "execution_count": null,
   "metadata": {},
   "outputs": [],
   "source": []
  },
  {
   "cell_type": "markdown",
   "metadata": {},
   "source": [
    "Com base no conjunto de dados fornecido sobre a previsão de venda cruzada de seguros de saúde, podemos formular algumas hipóteses interessantes para investigar:\n",
    "\n",
    "1. Demografia e interesse em seguro de veículos:\n",
    "\n",
    "Idade: Clientes mais jovens podem estar mais propensos a adquirir seguro de veículos, devido a maior probabilidade de comprarem seus primeiros carros ou por se interessarem por modelos mais novos que exigem seguro.\n",
    "Gênero: Homens podem demonstrar maior interesse em seguro de veículos em comparação com mulheres, devido a uma possível associação cultural com automobilismo.\n",
    "Estado civil: Solteiros podem ter maior probabilidade de adquirir seguro de veículos, já que casados podem compartilhar veículos e apólices com o cônjuge.\n",
    "Localização: Clientes em áreas urbanas ou com maior densidade populacional podem ser mais propensos a adquirir seguro de veículos, devido à maior necessidade de locomoção e maior risco de acidentes.\n",
    "\n",
    "2. Comportamento de compra e interesse em seguro de veículos:\n",
    "\n",
    "Posse de veículo: Clientes que já possuem um seguro de saúde e também possuem um veículo têm maior probabilidade de adquirir um seguro para o veículo.\n",
    "Tempo como cliente: Clientes mais antigos e com bom histórico de pagamento podem estar mais propensos a adquirir outro produto da seguradora, como o seguro de veículos.\n",
    "Canal de vendas: Clientes que adquiriram o seguro de saúde por meio de um canal específico (online, telefone, agente) podem ter maior probabilidade de adquirir o seguro de veículos pelo mesmo canal.\n",
    "\n",
    "3. Fatores socioeconômicos e interesse em seguro de veículos:\n",
    "\n",
    "Renda anual: Clientes com renda anual mais alta podem estar mais propensos a adquirir seguro de veículos, pois têm maior poder aquisitivo para comprar e manter um veículo.\n",
    "Nível educacional: Clientes com maior nível educacional podem ter uma percepção diferente sobre a importância do seguro e ser mais propensos a adquiri-lo.\n",
    "Histórico de acidentes: Clientes com histórico de acidentes podem estar mais conscientes dos riscos e ser mais propensos a adquirir um seguro de veículos.\n",
    "\n",
    "4. Características do seguro de saúde e interesse em seguro de veículos:\n",
    "\n",
    "Tipo de plano de saúde: Clientes com planos de saúde mais completos podem estar mais propensos a adquirir seguro de veículos, demonstrando uma tendência a se prevenir contra riscos.\n",
    "Valor do prêmio do seguro de saúde: Clientes que pagam um valor mais alto pelo seguro de saúde podem ter maior probabilidade de adquirir seguro de veículos, indicando maior disponibilidade financeira.\n",
    "Observações:\n",
    "\n",
    "Essas são apenas hipóteses iniciais, e a análise dos dados pode revelar outras relações e insights relevantes.\n",
    "É importante realizar uma análise exploratória dos dados para verificar a validade dessas hipóteses e identificar possíveis vieses.\n",
    "As conclusões da análise devem ser cuidadosamente consideradas, levando em conta o contexto do problema e as limitações dos dados.\n",
    "Com essas hipóteses, você pode iniciar sua análise e explorar os dados para identificar os fatores que influenciam a probabilidade de um cliente adquirir um seguro de veículos.\n"
   ]
  },
  {
   "cell_type": "markdown",
   "metadata": {},
   "source": []
  }
 ],
 "metadata": {
  "kernelspec": {
   "display_name": ".venv",
   "language": "python",
   "name": "python3"
  },
  "language_info": {
   "codemirror_mode": {
    "name": "ipython",
    "version": 3
   },
   "file_extension": ".py",
   "mimetype": "text/x-python",
   "name": "python",
   "nbconvert_exporter": "python",
   "pygments_lexer": "ipython3",
   "version": "3.9.6"
  }
 },
 "nbformat": 4,
 "nbformat_minor": 2
}
