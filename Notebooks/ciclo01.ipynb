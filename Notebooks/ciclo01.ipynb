{
 "cells": [
  {
   "cell_type": "markdown",
   "metadata": {},
   "source": [
    "# Health Insurance Cross Sell Prediction 🏠 🏥"
   ]
  },
  {
   "cell_type": "markdown",
   "metadata": {},
   "source": [
    "Our client is an Insurance company that has provided Health Insurance to its customers now they need your help in building a model to predict whether the policyholders (customers) from past year will also be interested in Vehicle Insurance provided by the company.\n",
    "\n",
    "An insurance policy is an arrangement by which a company undertakes to provide a guarantee of compensation for specified loss, damage, illness, or death in return for the payment of a specified premium. A premium is a sum of money that the customer needs to pay regularly to an insurance company for this guarantee.\n",
    "\n",
    "For example, you may pay a premium of Rs. 5000 each year for a health insurance cover of Rs. 200,000/- so that if, God forbid, you fall ill and need to be hospitalised in that year, the insurance provider company will bear the cost of hospitalisation etc. for upto Rs. 200,000. Now if you are wondering how can company bear such high hospitalisation cost when it charges a premium of only Rs. 5000/-, that is where the concept of probabilities comes in picture. For example, like you, there may be 100 customers who would be paying a premium of Rs. 5000 every year, but only a few of them (say 2-3) would get hospitalised that year and not everyone. This way everyone shares the risk of everyone else.\n",
    "\n",
    "Just like medical insurance, there is vehicle insurance where every year customer needs to pay a premium of certain amount to insurance provider company so that in case of unfortunate accident by the vehicle, the insurance provider company will provide a compensation (called ‘sum assured’) to the customer.\n",
    "\n",
    "Building a model to predict whether a customer would be interested in Vehicle Insurance is extremely helpful for the company because it can then accordingly plan its communication strategy to reach out to those customers and optimise its business model and revenue.\n",
    "\n",
    "Now, in order to predict, whether the customer would be interested in Vehicle insurance, you have information about demographics (gender, age, region code type), Vehicles (Vehicle Age, Damage), Policy (Premium, sourcing channel) etc.\n",
    "\n",
    "<center><img width=\"40%\" src=\"https://img.freepik.com/free-vector/social-security-concept-illustration_114360-17279.jpg?t=st=1731539901~exp=1731543501~hmac=f2cec6918cf5f73b2fabc8333bffb8216ee41c5c08ac1326536af5fd3c35c89b&w=1380\"></center>\n",
    "\n",
    "**VARIABLES**\n",
    "\n",
    "* `id`:   Unique ID for the customer\n",
    "* `Gender`:   Gender of the customer\n",
    "* `Age`:\tAge of the customer\n",
    "* `Driving_License`:\t0 : Customer does not have DL, 1 : Customer already has DL\n",
    "* `Region_Code`:\tUnique code for the region of the customer\n",
    "* `Previously_Insured`:\t1 : Customer already has Vehicle Insurance, 0 : Customer doesn't have Vehicle Insurance\n",
    "* `Vehicle_Age`:\tAge of the Vehicle\n",
    "* `Vehicle_Damage`:\t1 : Customer got his/her vehicle damaged in the past. 0 : Customer didn't get his/her vehicle damaged in the past.\n",
    "* `Annual_Premium`:\tThe amount customer needs to pay as premium in the year\n",
    "* `Policy_Sales_Channel`: Anonymized Code for the channel of outreaching to the customer ie. Different Agents, Over Mail, Over Phone, In Person, etc.\n",
    "* `Vintage`:\tNumber of Days, Customer has been associated with the company\n",
    "* `Response`:\t1 : Customer is interested, 0 : Customer is not interested\n",
    "\n",
    "ASSUMPTION : The response  = 0, means that the response was a negative and not a non response.\n"
   ]
  },
  {
   "cell_type": "markdown",
   "metadata": {},
   "source": [
    "## 0.0 - Imports"
   ]
  },
  {
   "cell_type": "markdown",
   "metadata": {},
   "source": [
    "### 0.1 - Libraries"
   ]
  },
  {
   "cell_type": "code",
   "execution_count": 49,
   "metadata": {},
   "outputs": [],
   "source": [
    "import pandas as pd\n",
    "import numpy as np\n",
    "import seaborn as sns\n",
    "import matplotlib.pyplot as plt\n",
    "\n",
    "from pycaret.classification import *\n",
    "from sklearn.metrics import auc\n"
   ]
  },
  {
   "cell_type": "markdown",
   "metadata": {},
   "source": [
    "### 0.2 - Helper Functions"
   ]
  },
  {
   "cell_type": "code",
   "execution_count": 2,
   "metadata": {},
   "outputs": [],
   "source": [
    "def plot_percentage_by_category(df, category_col, target_col, figsize=(10, 6)):\n",
    "    \"\"\"\n",
    "    Plots a bar plot showing the percentage of target = 1 by category, with bars representing 100% behind.\n",
    "\n",
    "    Parameters:\n",
    "    df (pandas.DataFrame): DataFrame containing the data.\n",
    "    category_col (str): Column name for the categories (y-axis).\n",
    "    target_col (str): Column name for the target values (x-axis).\n",
    "    \"\"\"\n",
    "    # Change the category_col to str\n",
    "    df[category_col] = df[category_col].astype(str)\n",
    "\n",
    "\n",
    "    # Calculate the percentage of target = 1 for each category\n",
    "    percentages = df.groupby(category_col)[target_col].mean() * 100\n",
    "\n",
    "    # Calculate total count and percentage for each category relative to entire dataset\n",
    "    total_count = df.groupby(category_col)[target_col].count()\n",
    "    total_percentage = (total_count / df.shape[0]) * 100\n",
    "\n",
    "    # Sort categories by descending order of percentages\n",
    "    percentages = percentages.sort_values(ascending=False)\n",
    "    total_percentage = total_percentage.reindex(percentages.index)  # Reindex to match order\n",
    "\n",
    "    # Plotting\n",
    "    plt.figure(figsize=figsize)  # Adjust the figure size as needed\n",
    "\n",
    "    # Using Seaborn style and color palette\n",
    "    sns.set_style(\"white\")  # Remove grid and use white background\n",
    "\n",
    "    # Light blue color for 100% bars\n",
    "    color_100 = 'lightblue'\n",
    "\n",
    "    # Single shade of blue for percentage bars\n",
    "    color_percentage = 'steelblue'\n",
    "\n",
    "    # Convert index to string for proper plotting\n",
    "    categories = percentages.index.astype(str)\n",
    "\n",
    "    # Plotting 100% bars\n",
    "    bars_100 = plt.barh(categories, [100] * len(percentages), color=color_100, edgecolor='black')\n",
    "\n",
    "    # Adding quantities and percentages on top of 100% bars\n",
    "    for i, bar in enumerate(bars_100):\n",
    "        category = categories[i]\n",
    "        plt.text(bar.get_width() + 1, bar.get_y() + bar.get_height()/2,\n",
    "                 f'{total_count[category]} ({total_percentage[category]:.2f}%)',\n",
    "                 va='center', ha='left', fontsize=10)\n",
    "\n",
    "    # Plotting percentage bars\n",
    "    bars = plt.barh(categories, percentages, color=color_percentage, edgecolor='black')\n",
    "\n",
    "    # Adding percentages values inside the bars\n",
    "    for bar in bars:\n",
    "        plt.text(bar.get_width() + 1, bar.get_y() + bar.get_height()/2, f'{bar.get_width():.2f}%',\n",
    "                 va='center', ha='left', fontsize=10)\n",
    "\n",
    "    # Removing spines (borders)\n",
    "    sns.despine()\n",
    "\n",
    "    # Adding labels and title\n",
    "    plt.xlabel('Percentage (%)')\n",
    "    plt.ylabel(category_col)\n",
    "    plt.title(f'Percentage of {target_col} = 1 by {category_col}')\n",
    "\n",
    "    # Show plot\n",
    "    plt.show()\n"
   ]
  },
  {
   "cell_type": "markdown",
   "metadata": {},
   "source": [
    "### 0.3 - Loading Data Set"
   ]
  },
  {
   "cell_type": "code",
   "execution_count": 3,
   "metadata": {},
   "outputs": [],
   "source": [
    "df_raw = pd.read_csv('/Users/henriquekubo/Documents/repos/health/health_insurance/data/train.csv')\n",
    "df1 = df_raw.copy()\n",
    "df1.columns = df1.columns.str.lower()"
   ]
  },
  {
   "cell_type": "code",
   "execution_count": 4,
   "metadata": {},
   "outputs": [
    {
     "data": {
      "text/html": [
       "<div>\n",
       "<style scoped>\n",
       "    .dataframe tbody tr th:only-of-type {\n",
       "        vertical-align: middle;\n",
       "    }\n",
       "\n",
       "    .dataframe tbody tr th {\n",
       "        vertical-align: top;\n",
       "    }\n",
       "\n",
       "    .dataframe thead th {\n",
       "        text-align: right;\n",
       "    }\n",
       "</style>\n",
       "<table border=\"1\" class=\"dataframe\">\n",
       "  <thead>\n",
       "    <tr style=\"text-align: right;\">\n",
       "      <th></th>\n",
       "      <th>id</th>\n",
       "      <th>gender</th>\n",
       "      <th>age</th>\n",
       "      <th>driving_license</th>\n",
       "      <th>region_code</th>\n",
       "      <th>previously_insured</th>\n",
       "      <th>vehicle_age</th>\n",
       "      <th>vehicle_damage</th>\n",
       "      <th>annual_premium</th>\n",
       "      <th>policy_sales_channel</th>\n",
       "      <th>vintage</th>\n",
       "      <th>response</th>\n",
       "    </tr>\n",
       "  </thead>\n",
       "  <tbody>\n",
       "    <tr>\n",
       "      <th>0</th>\n",
       "      <td>1</td>\n",
       "      <td>Male</td>\n",
       "      <td>44</td>\n",
       "      <td>1</td>\n",
       "      <td>28.0</td>\n",
       "      <td>0</td>\n",
       "      <td>&gt; 2 Years</td>\n",
       "      <td>Yes</td>\n",
       "      <td>40454.0</td>\n",
       "      <td>26.0</td>\n",
       "      <td>217</td>\n",
       "      <td>1</td>\n",
       "    </tr>\n",
       "    <tr>\n",
       "      <th>1</th>\n",
       "      <td>2</td>\n",
       "      <td>Male</td>\n",
       "      <td>76</td>\n",
       "      <td>1</td>\n",
       "      <td>3.0</td>\n",
       "      <td>0</td>\n",
       "      <td>1-2 Year</td>\n",
       "      <td>No</td>\n",
       "      <td>33536.0</td>\n",
       "      <td>26.0</td>\n",
       "      <td>183</td>\n",
       "      <td>0</td>\n",
       "    </tr>\n",
       "    <tr>\n",
       "      <th>2</th>\n",
       "      <td>3</td>\n",
       "      <td>Male</td>\n",
       "      <td>47</td>\n",
       "      <td>1</td>\n",
       "      <td>28.0</td>\n",
       "      <td>0</td>\n",
       "      <td>&gt; 2 Years</td>\n",
       "      <td>Yes</td>\n",
       "      <td>38294.0</td>\n",
       "      <td>26.0</td>\n",
       "      <td>27</td>\n",
       "      <td>1</td>\n",
       "    </tr>\n",
       "    <tr>\n",
       "      <th>3</th>\n",
       "      <td>4</td>\n",
       "      <td>Male</td>\n",
       "      <td>21</td>\n",
       "      <td>1</td>\n",
       "      <td>11.0</td>\n",
       "      <td>1</td>\n",
       "      <td>&lt; 1 Year</td>\n",
       "      <td>No</td>\n",
       "      <td>28619.0</td>\n",
       "      <td>152.0</td>\n",
       "      <td>203</td>\n",
       "      <td>0</td>\n",
       "    </tr>\n",
       "    <tr>\n",
       "      <th>4</th>\n",
       "      <td>5</td>\n",
       "      <td>Female</td>\n",
       "      <td>29</td>\n",
       "      <td>1</td>\n",
       "      <td>41.0</td>\n",
       "      <td>1</td>\n",
       "      <td>&lt; 1 Year</td>\n",
       "      <td>No</td>\n",
       "      <td>27496.0</td>\n",
       "      <td>152.0</td>\n",
       "      <td>39</td>\n",
       "      <td>0</td>\n",
       "    </tr>\n",
       "  </tbody>\n",
       "</table>\n",
       "</div>"
      ],
      "text/plain": [
       "   id  gender  age  driving_license  region_code  previously_insured  \\\n",
       "0   1    Male   44                1         28.0                   0   \n",
       "1   2    Male   76                1          3.0                   0   \n",
       "2   3    Male   47                1         28.0                   0   \n",
       "3   4    Male   21                1         11.0                   1   \n",
       "4   5  Female   29                1         41.0                   1   \n",
       "\n",
       "  vehicle_age vehicle_damage  annual_premium  policy_sales_channel  vintage  \\\n",
       "0   > 2 Years            Yes         40454.0                  26.0      217   \n",
       "1    1-2 Year             No         33536.0                  26.0      183   \n",
       "2   > 2 Years            Yes         38294.0                  26.0       27   \n",
       "3    < 1 Year             No         28619.0                 152.0      203   \n",
       "4    < 1 Year             No         27496.0                 152.0       39   \n",
       "\n",
       "   response  \n",
       "0         1  \n",
       "1         0  \n",
       "2         1  \n",
       "3         0  \n",
       "4         0  "
      ]
     },
     "execution_count": 4,
     "metadata": {},
     "output_type": "execute_result"
    }
   ],
   "source": [
    "df1.head()"
   ]
  },
  {
   "cell_type": "markdown",
   "metadata": {},
   "source": [
    "## 1.0 - Data Description"
   ]
  },
  {
   "cell_type": "markdown",
   "metadata": {},
   "source": [
    "### 1.1 - Data Dimension"
   ]
  },
  {
   "cell_type": "code",
   "execution_count": 5,
   "metadata": {},
   "outputs": [
    {
     "name": "stdout",
     "output_type": "stream",
     "text": [
      "Number of rows: 381109\n",
      "Number of columns: 12\n"
     ]
    }
   ],
   "source": [
    "print(f'Number of rows: {df1.shape[0]}')\n",
    "print(f'Number of columns: {df1.shape[1]}')"
   ]
  },
  {
   "cell_type": "markdown",
   "metadata": {},
   "source": [
    "### 1.2 - Data Types"
   ]
  },
  {
   "cell_type": "code",
   "execution_count": 6,
   "metadata": {},
   "outputs": [
    {
     "data": {
      "text/plain": [
       "id                        int64\n",
       "gender                   object\n",
       "age                       int64\n",
       "driving_license           int64\n",
       "region_code             float64\n",
       "previously_insured        int64\n",
       "vehicle_age              object\n",
       "vehicle_damage           object\n",
       "annual_premium          float64\n",
       "policy_sales_channel    float64\n",
       "vintage                   int64\n",
       "response                  int64\n",
       "dtype: object"
      ]
     },
     "execution_count": 6,
     "metadata": {},
     "output_type": "execute_result"
    }
   ],
   "source": [
    "df1.dtypes"
   ]
  },
  {
   "cell_type": "markdown",
   "metadata": {},
   "source": [
    "### 1.3 - Check NA"
   ]
  },
  {
   "cell_type": "code",
   "execution_count": 7,
   "metadata": {},
   "outputs": [
    {
     "data": {
      "text/plain": [
       "id                      0\n",
       "gender                  0\n",
       "age                     0\n",
       "driving_license         0\n",
       "region_code             0\n",
       "previously_insured      0\n",
       "vehicle_age             0\n",
       "vehicle_damage          0\n",
       "annual_premium          0\n",
       "policy_sales_channel    0\n",
       "vintage                 0\n",
       "response                0\n",
       "dtype: int64"
      ]
     },
     "execution_count": 7,
     "metadata": {},
     "output_type": "execute_result"
    }
   ],
   "source": [
    "df1.isna().sum()"
   ]
  },
  {
   "cell_type": "markdown",
   "metadata": {},
   "source": [
    "### 1.4 - Data Descriptive"
   ]
  },
  {
   "cell_type": "markdown",
   "metadata": {},
   "source": [
    "We will separate the dataset into categorical and numerical variables, and then check the statistical data in the numerical variables.\n",
    "\n",
    "Separating a dataset into categorical and numerical variables is a crucial preprocessing step in machine learning for several reasons:\n",
    "\n",
    "**1. Applying Appropriate Algorithms:** \n",
    "\n",
    "Different machine learning algorithms are designed to handle different data types.  Many algorithms, like linear regression or support vector machines, work best with numerical data.  Categorical data often needs to be transformed (e.g., one-hot encoding) before being used in these models. By separating the data types, you can apply the most effective algorithms for each.\n",
    "\n",
    "**2. Feature Engineering:**\n",
    "\n",
    "Separating the variables allows you to perform specific feature engineering techniques for each data type.  For numerical features, you might consider scaling, normalization, or creating new features based on mathematical relationships. For categorical features, you could explore techniques like one-hot encoding, label encoding, or frequency encoding to make them suitable for machine learning models.\n",
    "\n",
    "**3. Improved Model Performance:**\n",
    "\n",
    "Properly handling categorical and numerical variables can significantly improve the performance and accuracy of your machine learning models. By applying appropriate preprocessing techniques, you can help the model better understand the underlying patterns in the data and make more accurate predictions.\n",
    "\n",
    "**4.  Data Understanding and Visualization:**\n",
    "\n",
    "Analyzing numerical and categorical variables separately can provide valuable insights into the data. You can calculate descriptive statistics for numerical features (mean, median, standard deviation) and explore the distribution of categorical features (frequency counts, proportions). This helps in understanding the characteristics of the data and identifying potential issues like outliers or class imbalances.\n",
    "\n",
    "**In summary:** Separating a dataset into categorical and numerical variables is essential for effective data preprocessing, feature engineering, and model selection, ultimately leading to improved model performance and better understanding of the data.\n"
   ]
  },
  {
   "cell_type": "code",
   "execution_count": 8,
   "metadata": {},
   "outputs": [],
   "source": [
    "num_attributes = df1.select_dtypes(include= ['int64', 'float64'])\n",
    "cat_attributes = df1.select_dtypes(exclude= ['int64', 'float64', 'datetime64[ns]'])"
   ]
  },
  {
   "cell_type": "code",
   "execution_count": 9,
   "metadata": {},
   "outputs": [
    {
     "data": {
      "text/html": [
       "<div>\n",
       "<style scoped>\n",
       "    .dataframe tbody tr th:only-of-type {\n",
       "        vertical-align: middle;\n",
       "    }\n",
       "\n",
       "    .dataframe tbody tr th {\n",
       "        vertical-align: top;\n",
       "    }\n",
       "\n",
       "    .dataframe thead th {\n",
       "        text-align: right;\n",
       "    }\n",
       "</style>\n",
       "<table border=\"1\" class=\"dataframe\">\n",
       "  <thead>\n",
       "    <tr style=\"text-align: right;\">\n",
       "      <th></th>\n",
       "      <th>attributes</th>\n",
       "      <th>min</th>\n",
       "      <th>max</th>\n",
       "      <th>range</th>\n",
       "      <th>mean</th>\n",
       "      <th>median</th>\n",
       "      <th>std</th>\n",
       "      <th>skew</th>\n",
       "      <th>kurtosis</th>\n",
       "    </tr>\n",
       "  </thead>\n",
       "  <tbody>\n",
       "    <tr>\n",
       "      <th>0</th>\n",
       "      <td>id</td>\n",
       "      <td>1.0</td>\n",
       "      <td>381109.0</td>\n",
       "      <td>381108.0</td>\n",
       "      <td>190555.000000</td>\n",
       "      <td>190555.0</td>\n",
       "      <td>110016.691870</td>\n",
       "      <td>9.443274e-16</td>\n",
       "      <td>-1.200000</td>\n",
       "    </tr>\n",
       "    <tr>\n",
       "      <th>1</th>\n",
       "      <td>age</td>\n",
       "      <td>20.0</td>\n",
       "      <td>85.0</td>\n",
       "      <td>65.0</td>\n",
       "      <td>38.822584</td>\n",
       "      <td>36.0</td>\n",
       "      <td>15.511591</td>\n",
       "      <td>6.725390e-01</td>\n",
       "      <td>-0.565655</td>\n",
       "    </tr>\n",
       "    <tr>\n",
       "      <th>2</th>\n",
       "      <td>driving_license</td>\n",
       "      <td>0.0</td>\n",
       "      <td>1.0</td>\n",
       "      <td>1.0</td>\n",
       "      <td>0.997869</td>\n",
       "      <td>1.0</td>\n",
       "      <td>0.046109</td>\n",
       "      <td>-2.159518e+01</td>\n",
       "      <td>464.354302</td>\n",
       "    </tr>\n",
       "    <tr>\n",
       "      <th>3</th>\n",
       "      <td>region_code</td>\n",
       "      <td>0.0</td>\n",
       "      <td>52.0</td>\n",
       "      <td>52.0</td>\n",
       "      <td>26.388807</td>\n",
       "      <td>28.0</td>\n",
       "      <td>13.229871</td>\n",
       "      <td>-1.152664e-01</td>\n",
       "      <td>-0.867857</td>\n",
       "    </tr>\n",
       "    <tr>\n",
       "      <th>4</th>\n",
       "      <td>previously_insured</td>\n",
       "      <td>0.0</td>\n",
       "      <td>1.0</td>\n",
       "      <td>1.0</td>\n",
       "      <td>0.458210</td>\n",
       "      <td>0.0</td>\n",
       "      <td>0.498251</td>\n",
       "      <td>1.677471e-01</td>\n",
       "      <td>-1.971871</td>\n",
       "    </tr>\n",
       "    <tr>\n",
       "      <th>5</th>\n",
       "      <td>annual_premium</td>\n",
       "      <td>2630.0</td>\n",
       "      <td>540165.0</td>\n",
       "      <td>537535.0</td>\n",
       "      <td>30564.389581</td>\n",
       "      <td>31669.0</td>\n",
       "      <td>17213.132474</td>\n",
       "      <td>1.766087e+00</td>\n",
       "      <td>34.004569</td>\n",
       "    </tr>\n",
       "    <tr>\n",
       "      <th>6</th>\n",
       "      <td>policy_sales_channel</td>\n",
       "      <td>1.0</td>\n",
       "      <td>163.0</td>\n",
       "      <td>162.0</td>\n",
       "      <td>112.034295</td>\n",
       "      <td>133.0</td>\n",
       "      <td>54.203924</td>\n",
       "      <td>-9.000081e-01</td>\n",
       "      <td>-0.970810</td>\n",
       "    </tr>\n",
       "    <tr>\n",
       "      <th>7</th>\n",
       "      <td>vintage</td>\n",
       "      <td>10.0</td>\n",
       "      <td>299.0</td>\n",
       "      <td>289.0</td>\n",
       "      <td>154.347397</td>\n",
       "      <td>154.0</td>\n",
       "      <td>83.671194</td>\n",
       "      <td>3.029517e-03</td>\n",
       "      <td>-1.200688</td>\n",
       "    </tr>\n",
       "    <tr>\n",
       "      <th>8</th>\n",
       "      <td>response</td>\n",
       "      <td>0.0</td>\n",
       "      <td>1.0</td>\n",
       "      <td>1.0</td>\n",
       "      <td>0.122563</td>\n",
       "      <td>0.0</td>\n",
       "      <td>0.327935</td>\n",
       "      <td>2.301906e+00</td>\n",
       "      <td>3.298788</td>\n",
       "    </tr>\n",
       "  </tbody>\n",
       "</table>\n",
       "</div>"
      ],
      "text/plain": [
       "             attributes     min       max     range           mean    median  \\\n",
       "0                    id     1.0  381109.0  381108.0  190555.000000  190555.0   \n",
       "1                   age    20.0      85.0      65.0      38.822584      36.0   \n",
       "2       driving_license     0.0       1.0       1.0       0.997869       1.0   \n",
       "3           region_code     0.0      52.0      52.0      26.388807      28.0   \n",
       "4    previously_insured     0.0       1.0       1.0       0.458210       0.0   \n",
       "5        annual_premium  2630.0  540165.0  537535.0   30564.389581   31669.0   \n",
       "6  policy_sales_channel     1.0     163.0     162.0     112.034295     133.0   \n",
       "7               vintage    10.0     299.0     289.0     154.347397     154.0   \n",
       "8              response     0.0       1.0       1.0       0.122563       0.0   \n",
       "\n",
       "             std          skew    kurtosis  \n",
       "0  110016.691870  9.443274e-16   -1.200000  \n",
       "1      15.511591  6.725390e-01   -0.565655  \n",
       "2       0.046109 -2.159518e+01  464.354302  \n",
       "3      13.229871 -1.152664e-01   -0.867857  \n",
       "4       0.498251  1.677471e-01   -1.971871  \n",
       "5   17213.132474  1.766087e+00   34.004569  \n",
       "6      54.203924 -9.000081e-01   -0.970810  \n",
       "7      83.671194  3.029517e-03   -1.200688  \n",
       "8       0.327935  2.301906e+00    3.298788  "
      ]
     },
     "execution_count": 9,
     "metadata": {},
     "output_type": "execute_result"
    }
   ],
   "source": [
    "# Central Tendency - Mean, Median\n",
    "ct1 = pd.DataFrame( num_attributes.apply( np.mean ) ).T\n",
    "ct2 = pd.DataFrame( num_attributes.apply( np.median ) ).T\n",
    "\n",
    "# dispersion - std, min, max, range, skew, kurtosis\n",
    "d1 = pd.DataFrame( num_attributes.apply( np.std ) ).T \n",
    "d2 = pd.DataFrame( num_attributes.apply( min ) ).T \n",
    "d3 = pd.DataFrame( num_attributes.apply( max ) ).T \n",
    "d4 = pd.DataFrame( num_attributes.apply( lambda x: x.max() - x.min() ) ).T \n",
    "d5 = pd.DataFrame( num_attributes.apply( lambda x: x.skew() ) ).T \n",
    "d6 = pd.DataFrame( num_attributes.apply( lambda x: x.kurtosis() ) ).T \n",
    "\n",
    "# concatenar\n",
    "m = pd.concat( [d2, d3, d4, ct1, ct2, d1, d5, d6] ).T.reset_index()\n",
    "m.columns = ['attributes', 'min', 'max', 'range', 'mean', 'median', 'std', 'skew', 'kurtosis']\n",
    "m"
   ]
  },
  {
   "cell_type": "markdown",
   "metadata": {},
   "source": [
    "## 2.0 - Feature Engineering"
   ]
  },
  {
   "cell_type": "markdown",
   "metadata": {},
   "source": [
    "Feature engineering is essentially prepping your data for machine learning.  Think of it like this: you wouldn't feed a car raw crude oil, you'd refine it into gasoline first. Feature engineering does that for your data!\n",
    "\n",
    "Here's why it's important:\n",
    "\n",
    "* **Boosts accuracy:**  It helps your model find the important information and ignore the distractions.\n",
    "* **Makes data usable:** It transforms data into the right format for your model to understand.\n",
    "* **Helps your model learn better:**  It can simplify things and highlight the important patterns.\n",
    "\n",
    "\n",
    "By doing good feature engineering, you help your machine learning model make better predictions and understand your data more effectively.\n"
   ]
  },
  {
   "cell_type": "code",
   "execution_count": 10,
   "metadata": {},
   "outputs": [],
   "source": [
    "df2 =  df1.copy()"
   ]
  },
  {
   "cell_type": "code",
   "execution_count": 11,
   "metadata": {},
   "outputs": [],
   "source": [
    "# vehicle age\n",
    "df2['vehicle_age'] =  df2['vehicle_age'].apply( lambda x: 'over_2_years' if x == '> 2 Years' else 'between_1_2_year' if x == '1-2 Year' else 'below_1_year' ) \n",
    "\n",
    "# vehicle damage\n",
    "df2['vehicle_damage'] =  df2['vehicle_damage'].apply( lambda x: 1 if x == 'Yes' else 0 )"
   ]
  },
  {
   "cell_type": "code",
   "execution_count": 12,
   "metadata": {},
   "outputs": [
    {
     "data": {
      "text/html": [
       "<div>\n",
       "<style scoped>\n",
       "    .dataframe tbody tr th:only-of-type {\n",
       "        vertical-align: middle;\n",
       "    }\n",
       "\n",
       "    .dataframe tbody tr th {\n",
       "        vertical-align: top;\n",
       "    }\n",
       "\n",
       "    .dataframe thead th {\n",
       "        text-align: right;\n",
       "    }\n",
       "</style>\n",
       "<table border=\"1\" class=\"dataframe\">\n",
       "  <thead>\n",
       "    <tr style=\"text-align: right;\">\n",
       "      <th></th>\n",
       "      <th>id</th>\n",
       "      <th>gender</th>\n",
       "      <th>age</th>\n",
       "      <th>driving_license</th>\n",
       "      <th>region_code</th>\n",
       "      <th>previously_insured</th>\n",
       "      <th>vehicle_age</th>\n",
       "      <th>vehicle_damage</th>\n",
       "      <th>annual_premium</th>\n",
       "      <th>policy_sales_channel</th>\n",
       "      <th>vintage</th>\n",
       "      <th>response</th>\n",
       "    </tr>\n",
       "  </thead>\n",
       "  <tbody>\n",
       "    <tr>\n",
       "      <th>0</th>\n",
       "      <td>1</td>\n",
       "      <td>Male</td>\n",
       "      <td>44</td>\n",
       "      <td>1</td>\n",
       "      <td>28.0</td>\n",
       "      <td>0</td>\n",
       "      <td>over_2_years</td>\n",
       "      <td>1</td>\n",
       "      <td>40454.0</td>\n",
       "      <td>26.0</td>\n",
       "      <td>217</td>\n",
       "      <td>1</td>\n",
       "    </tr>\n",
       "    <tr>\n",
       "      <th>1</th>\n",
       "      <td>2</td>\n",
       "      <td>Male</td>\n",
       "      <td>76</td>\n",
       "      <td>1</td>\n",
       "      <td>3.0</td>\n",
       "      <td>0</td>\n",
       "      <td>between_1_2_year</td>\n",
       "      <td>0</td>\n",
       "      <td>33536.0</td>\n",
       "      <td>26.0</td>\n",
       "      <td>183</td>\n",
       "      <td>0</td>\n",
       "    </tr>\n",
       "    <tr>\n",
       "      <th>2</th>\n",
       "      <td>3</td>\n",
       "      <td>Male</td>\n",
       "      <td>47</td>\n",
       "      <td>1</td>\n",
       "      <td>28.0</td>\n",
       "      <td>0</td>\n",
       "      <td>over_2_years</td>\n",
       "      <td>1</td>\n",
       "      <td>38294.0</td>\n",
       "      <td>26.0</td>\n",
       "      <td>27</td>\n",
       "      <td>1</td>\n",
       "    </tr>\n",
       "    <tr>\n",
       "      <th>3</th>\n",
       "      <td>4</td>\n",
       "      <td>Male</td>\n",
       "      <td>21</td>\n",
       "      <td>1</td>\n",
       "      <td>11.0</td>\n",
       "      <td>1</td>\n",
       "      <td>below_1_year</td>\n",
       "      <td>0</td>\n",
       "      <td>28619.0</td>\n",
       "      <td>152.0</td>\n",
       "      <td>203</td>\n",
       "      <td>0</td>\n",
       "    </tr>\n",
       "    <tr>\n",
       "      <th>4</th>\n",
       "      <td>5</td>\n",
       "      <td>Female</td>\n",
       "      <td>29</td>\n",
       "      <td>1</td>\n",
       "      <td>41.0</td>\n",
       "      <td>1</td>\n",
       "      <td>below_1_year</td>\n",
       "      <td>0</td>\n",
       "      <td>27496.0</td>\n",
       "      <td>152.0</td>\n",
       "      <td>39</td>\n",
       "      <td>0</td>\n",
       "    </tr>\n",
       "  </tbody>\n",
       "</table>\n",
       "</div>"
      ],
      "text/plain": [
       "   id  gender  age  driving_license  region_code  previously_insured  \\\n",
       "0   1    Male   44                1         28.0                   0   \n",
       "1   2    Male   76                1          3.0                   0   \n",
       "2   3    Male   47                1         28.0                   0   \n",
       "3   4    Male   21                1         11.0                   1   \n",
       "4   5  Female   29                1         41.0                   1   \n",
       "\n",
       "        vehicle_age  vehicle_damage  annual_premium  policy_sales_channel  \\\n",
       "0      over_2_years               1         40454.0                  26.0   \n",
       "1  between_1_2_year               0         33536.0                  26.0   \n",
       "2      over_2_years               1         38294.0                  26.0   \n",
       "3      below_1_year               0         28619.0                 152.0   \n",
       "4      below_1_year               0         27496.0                 152.0   \n",
       "\n",
       "   vintage  response  \n",
       "0      217         1  \n",
       "1      183         0  \n",
       "2       27         1  \n",
       "3      203         0  \n",
       "4       39         0  "
      ]
     },
     "execution_count": 12,
     "metadata": {},
     "output_type": "execute_result"
    }
   ],
   "source": [
    "df2.head()"
   ]
  },
  {
   "cell_type": "markdown",
   "metadata": {},
   "source": [
    "## 3.0 - Hypothesis"
   ]
  },
  {
   "cell_type": "markdown",
   "metadata": {},
   "source": [
    "Hypotheses act as a roadmap for data analysis, providing:\n",
    "\n",
    "* **Direction:** Focus your analysis on specific business questions.\n",
    "* **Structure:** Organize your exploration and interpretation of data.\n",
    "* **Validation:** Test your assumptions and ensure findings are relevant.\n",
    "* **Communication:**  Clearly convey your results and justify conclusions.\n",
    "\n",
    "Ultimately, hypotheses bring purpose and clarity to your data analysis, leading to more efficient, impactful insights that can be translated into valuable actions for the business team.\n",
    "Here are some hypotheses to check it out:"
   ]
  },
  {
   "cell_type": "markdown",
   "metadata": {},
   "source": [
    "* **H1** - Younger customers may be more likely to purchase car insurance due to a higher probability of buying their first car or being interested in newer models that require insurance.\n",
    "* **H2** - Men may show greater interest in car insurance compared to women, possibly due to a cultural association with driving.\n",
    "* **H3** -  Customers in urban areas or with higher population density may be more prone to purchasing car insurance due to the greater need for transportation and increased risk of accidents.\n",
    "* **H4** - Customers who already have health insurance and also own a vehicle are more likely to purchase car insurance.\n",
    "* **H5** - Long-time customers with a good payment history may be more likely to purchase another product from the insurer, such as car insurance.\n",
    "* **H6** - Customers who purchased health insurance through a specific channel (online, phone, agent) may be more likely to purchase car insurance through the same channel."
   ]
  },
  {
   "cell_type": "markdown",
   "metadata": {},
   "source": [
    "## 4.0 - EDA"
   ]
  },
  {
   "cell_type": "markdown",
   "metadata": {},
   "source": [
    "EDA is like getting to know your data before making any big decisions. It helps you find hidden patterns, spot errors, choose the right tools, and ultimately, make sure your analysis is on the right track. Think of it as the foundation for a strong and insightful data analysis!\n",
    "I'll check my hypothesis here as well"
   ]
  },
  {
   "cell_type": "code",
   "execution_count": 13,
   "metadata": {},
   "outputs": [],
   "source": [
    "df4 = df2.copy()"
   ]
  },
  {
   "cell_type": "markdown",
   "metadata": {},
   "source": [
    "### 4.1 - Univariate Analysis"
   ]
  },
  {
   "cell_type": "markdown",
   "metadata": {},
   "source": [
    "Univariate analysis is like taking a magnifying glass to each individual feature in your data. It's the simplest form of data analysis, where you focus on understanding one variable at a time"
   ]
  },
  {
   "cell_type": "markdown",
   "metadata": {},
   "source": [
    "#### 4.1.1 - Testing Hypothesis"
   ]
  },
  {
   "cell_type": "markdown",
   "metadata": {},
   "source": [
    "##### H1 - Younger customers may be more likely to purchase car insurance due to a higher probability of buying their first car or being interested in newer models that require insurance. (F)"
   ]
  },
  {
   "cell_type": "markdown",
   "metadata": {},
   "source": [
    "We can see that younger people are not interested in car insurance, instead, midle age are more likely to hire the insurance"
   ]
  },
  {
   "cell_type": "code",
   "execution_count": 14,
   "metadata": {},
   "outputs": [],
   "source": [
    "aux00 = df4.loc[df4['response'] == 0, 'age']\n",
    "aux01 = df4.loc[df4['response'] == 1, 'age']\n"
   ]
  },
  {
   "cell_type": "code",
   "execution_count": 15,
   "metadata": {},
   "outputs": [
    {
     "data": {
      "image/png": "[encoded data removed]",
      "text/plain": [
       "<Figure size 1000x500 with 2 Axes>"
      ]
     },
     "metadata": {},
     "output_type": "display_data"
    }
   ],
   "source": [
    "sns.set_theme(style=\"whitegrid\")\n",
    "fig, axes = plt.subplots(1, 2, figsize=(10, 5))\n",
    "\n",
    "sns.histplot(aux00, ax=axes[0], color='skyblue', label='No Interest')\n",
    "sns.histplot(aux01, ax=axes[1], color='lightcoral', label='Yes Interest')\n",
    "\n",
    "axes[0].legend()\n",
    "axes[1].legend()\n",
    "\n",
    "plt.tight_layout()\n",
    "plt.show()"
   ]
  },
  {
   "cell_type": "markdown",
   "metadata": {},
   "source": [
    "##### H2 - Men may show greater interest in car insurance compared to women, possibly due to a cultural association with driving. (T)"
   ]
  },
  {
   "cell_type": "markdown",
   "metadata": {},
   "source": [
    "Apparently, men tend to purchase car insurance; among those who did, 61% were men."
   ]
  },
  {
   "cell_type": "code",
   "execution_count": 16,
   "metadata": {},
   "outputs": [
    {
     "data": {
      "image/png": "[encoded data removed]",
      "text/plain": [
       "<Figure size 1000x500 with 2 Axes>"
      ]
     },
     "metadata": {},
     "output_type": "display_data"
    }
   ],
   "source": [
    "aux00 = df4.loc[df4['response'] == 0, 'gender']\n",
    "aux01 = df4.loc[df4['response'] == 1, 'gender']\n",
    "\n",
    "sns.set_theme(style=\"whitegrid\")\n",
    "fig, axes = plt.subplots(1, 2, figsize=(10, 5))\n",
    "\n",
    "sns.countplot(aux00, ax=axes[0], color='skyblue', label='No Interest')\n",
    "sns.countplot(aux01, ax=axes[1], color='lightcoral', label='Yes Interest')\n",
    "\n",
    "axes[0].legend()\n",
    "axes[1].legend()\n",
    "\n",
    "plt.tight_layout()\n",
    "plt.show()"
   ]
  },
  {
   "cell_type": "code",
   "execution_count": 17,
   "metadata": {},
   "outputs": [
    {
     "data": {
      "text/plain": [
       "61.07"
      ]
     },
     "execution_count": 17,
     "metadata": {},
     "output_type": "execute_result"
    }
   ],
   "source": [
    "round(len(df4[(df4['response'] == 1) & (df4['gender'] == 'Male')]) / len(df4[df4['response'] == 1]) * 100,2)"
   ]
  },
  {
   "cell_type": "code",
   "execution_count": 18,
   "metadata": {},
   "outputs": [
    {
     "data": {
      "text/plain": [
       "38.93"
      ]
     },
     "execution_count": 18,
     "metadata": {},
     "output_type": "execute_result"
    }
   ],
   "source": [
    "round(len(df4[(df4['response'] == 1) & (df4['gender'] == 'Female')]) / len(df4[df4['response'] == 1]) * 100,2)"
   ]
  },
  {
   "cell_type": "markdown",
   "metadata": {},
   "source": [
    "##### H3 -  Customers in urban areas or with higher population density may be more prone to purchasing car insurance due to the greater need for transportation and increased risk of accidents. ( - )"
   ]
  },
  {
   "cell_type": "markdown",
   "metadata": {},
   "source": [
    "We can't know for sure if it's an urban, rural, or major city area. What we can do is see if the regions affect the decision to have or not have car insurance, and with this information, there's no much that we can analise, apparently, region 28 has a great number of insured, but, it can be an outlier."
   ]
  },
  {
   "cell_type": "code",
   "execution_count": 19,
   "metadata": {},
   "outputs": [
    {
     "data": {
      "text/plain": [
       "<Axes: xlabel='region_code', ylabel='Count'>"
      ]
     },
     "execution_count": 19,
     "metadata": {},
     "output_type": "execute_result"
    },
    {
     "data": {
      "image/png": "[encoded data removed]",
      "text/plain": [
       "<Figure size 640x480 with 1 Axes>"
      ]
     },
     "metadata": {},
     "output_type": "display_data"
    }
   ],
   "source": [
    "aux00 = df4[df4['response'] == 1]['region_code']\n",
    "sns.histplot(aux00)"
   ]
  },
  {
   "cell_type": "markdown",
   "metadata": {},
   "source": [
    "##### H4 - Customers who already have an car insurance  are more likely to decline this offer (T)"
   ]
  },
  {
   "cell_type": "markdown",
   "metadata": {},
   "source": [
    "That's kind obvious, but it is best to make sure, as we can see, who has as insurance, has a NO responde in 99% of the time"
   ]
  },
  {
   "cell_type": "code",
   "execution_count": 20,
   "metadata": {},
   "outputs": [
    {
     "data": {
      "image/png": "[encoded data removed]",
      "text/plain": [
       "<Figure size 640x480 with 1 Axes>"
      ]
     },
     "metadata": {},
     "output_type": "display_data"
    }
   ],
   "source": [
    "aux = df4.loc[df4['response'] == 1, 'previously_insured']\n",
    "\n",
    "sns.countplot(x=aux)\n",
    "plt.show()\n",
    "\n"
   ]
  },
  {
   "cell_type": "markdown",
   "metadata": {},
   "source": [
    "##### H5 - If the vehicle has been damaged, then the vehicle insurance interest is greater. (T)"
   ]
  },
  {
   "cell_type": "markdown",
   "metadata": {},
   "source": [
    "It seems that if a person has already had their vehicle in an accident, they are more likely to purchase car insurance. \n"
   ]
  },
  {
   "cell_type": "code",
   "execution_count": 21,
   "metadata": {},
   "outputs": [
    {
     "data": {
      "image/png": "[encoded data removed]",
      "text/plain": [
       "<Figure size 640x480 with 1 Axes>"
      ]
     },
     "metadata": {},
     "output_type": "display_data"
    }
   ],
   "source": [
    "aux = df4.loc[df4['response'] == 1, 'vehicle_damage']\n",
    "sns.countplot(x=aux)\n",
    "plt.show()"
   ]
  },
  {
   "cell_type": "markdown",
   "metadata": {},
   "source": [
    "##### H6 - Customers with older vehicle have less interest on vehicle insurance. (F)"
   ]
  },
  {
   "cell_type": "markdown",
   "metadata": {},
   "source": [
    "Customers with older vehicle have more interest on vehicle insurance. This is curious too, people with less vehicle age tend to preserve their vehicles earlier, but that's not the case."
   ]
  },
  {
   "cell_type": "code",
   "execution_count": 22,
   "metadata": {},
   "outputs": [
    {
     "data": {
      "image/png": "[encoded data removed]",
      "text/plain": [
       "<Figure size 1000x500 with 2 Axes>"
      ]
     },
     "metadata": {},
     "output_type": "display_data"
    }
   ],
   "source": [
    "aux = df4.loc[df4['response'] == 1, 'vehicle_age']\n",
    "aux1 = df4.loc[df4['response'] == 0, 'vehicle_age']\n",
    "\n",
    "fig, axes = plt.subplots(1, 2, figsize=(10, 5))\n",
    "\n",
    "sns.countplot(x=aux, ax=axes[0], label='Yes Interest')\n",
    "sns.countplot(x=aux1, ax=axes[1], label='No Interest')\n",
    "\n",
    "plt.tight_layout()\n",
    "plt.show()\n"
   ]
  },
  {
   "cell_type": "markdown",
   "metadata": {},
   "source": [
    "## 5.0 - PyCaret and AutoML\n",
    "\n",
    "Machine learning projects can be quite complex, demanding intense focus, attention to detail, and above all, time.  We need to know how to properly handle our data, choose and train models, evaluate results, and all of this is time-consuming and prone to errors.\n",
    "\n",
    "With this in mind, we'll be using the **PyCaret** AutoML framework.\n",
    "\n",
    "<p align=\"center\"><img src=\"https://pycaret.org/wp-content/uploads/2020/03/Divi93_43.png\" width=\"60%\"></p>\n",
    "\n",
    "PyCaret is an open-source, low-code Python library that aims to reduce the cycle time between hypothesis and insights in machine learning experiments.\n",
    "\n",
    "PyCaret enables data scientists to efficiently and quickly complete end-to-end experiments. Compared to other libraries, PyCaret differentiates itself by being low-code, meaning it requires minimal code for robust operation. All operations performed with PyCaret are loaded into a pipeline that is ready for deployment. Essentially, PyCaret is a low-code package that encompasses various machine learning libraries and frameworks like scikit-learn, XGBoost, Microsoft LightGBM, spaCy, and many more.\n"
   ]
  },
  {
   "cell_type": "markdown",
   "metadata": {},
   "source": [
    "Before we choose the model, we need to know what type of problem it is, in order to facilitate the type of model to be chosen. In this case, it is a classification problem because we need to identify which customers have the potential to purchase insurance. After that, we will rank the customers in the Class buyers by probability of purchase. This helps to prioritize contacts, focusing on customers likely to purchase insurance."
   ]
  },
  {
   "cell_type": "markdown",
   "metadata": {},
   "source": [
    "### 5.1 - Spliting Data"
   ]
  },
  {
   "cell_type": "markdown",
   "metadata": {},
   "source": [
    "Here's why splitting data before analysis using PyCaret is important:\n",
    "\n",
    "* Generalization: Splitting data helps to assess a model's capability to generalize to unseen data, preventing overfitting (where the model performs well on training data but poorly on new data).\n",
    "\n",
    "* Performance Estimation: A separate test set provides an unbiased estimate of a model's performance on new, unseen data. It simulates how the model might perform in real-world scenarios.\n",
    "\n",
    "* Hyperparameter Tuning: Splitting allows for hyperparameter tuning on a validation set, optimizing the model's performance without introducing bias from the test set.\n",
    "\n",
    "* Data Leakage Prevention: Splitting prevents data leakage, where information from the test set inadvertently influences the training process, leading to overly optimistic performance estimates.\n",
    "\n",
    "* Model Selection: Splitting enables the comparison of different models on the same test set, facilitating a fair evaluation and selection of the best-performing model."
   ]
  },
  {
   "cell_type": "code",
   "execution_count": 27,
   "metadata": {},
   "outputs": [],
   "source": [
    "train = df4.sample(frac=0.2)\n",
    "test = df4.drop(train.index)\n",
    "\n",
    "train.reset_index(drop=True, inplace=True)\n",
    "test.reset_index(drop=True, inplace=True)"
   ]
  },
  {
   "cell_type": "markdown",
   "metadata": {},
   "source": [
    "### 5.2 - Setup\n",
    "This function initializes the training environment and creates the transformation pipeline. Setup function must be called before executing any other function in PyCaret. It only has two required parameters i.e. `data` and `target`. All the other parameters are optional."
   ]
  },
  {
   "cell_type": "code",
   "execution_count": 34,
   "metadata": {},
   "outputs": [
    {
     "data": {
      "text/html": [
       "<style type=\"text/css\">\n",
       "#T_671ec_row9_col1, #T_671ec_row15_col1 {\n",
       "  background-color: lightgreen;\n",
       "}\n",
       "</style>\n",
       "<table id=\"T_671ec\">\n",
       "  <thead>\n",
       "    <tr>\n",
       "      <th class=\"blank level0\" >&nbsp;</th>\n",
       "      <th id=\"T_671ec_level0_col0\" class=\"col_heading level0 col0\" >Description</th>\n",
       "      <th id=\"T_671ec_level0_col1\" class=\"col_heading level0 col1\" >Value</th>\n",
       "    </tr>\n",
       "  </thead>\n",
       "  <tbody>\n",
       "    <tr>\n",
       "      <th id=\"T_671ec_level0_row0\" class=\"row_heading level0 row0\" >0</th>\n",
       "      <td id=\"T_671ec_row0_col0\" class=\"data row0 col0\" >Session id</td>\n",
       "      <td id=\"T_671ec_row0_col1\" class=\"data row0 col1\" >123</td>\n",
       "    </tr>\n",
       "    <tr>\n",
       "      <th id=\"T_671ec_level0_row1\" class=\"row_heading level0 row1\" >1</th>\n",
       "      <td id=\"T_671ec_row1_col0\" class=\"data row1 col0\" >Target</td>\n",
       "      <td id=\"T_671ec_row1_col1\" class=\"data row1 col1\" >response</td>\n",
       "    </tr>\n",
       "    <tr>\n",
       "      <th id=\"T_671ec_level0_row2\" class=\"row_heading level0 row2\" >2</th>\n",
       "      <td id=\"T_671ec_row2_col0\" class=\"data row2 col0\" >Target type</td>\n",
       "      <td id=\"T_671ec_row2_col1\" class=\"data row2 col1\" >Binary</td>\n",
       "    </tr>\n",
       "    <tr>\n",
       "      <th id=\"T_671ec_level0_row3\" class=\"row_heading level0 row3\" >3</th>\n",
       "      <td id=\"T_671ec_row3_col0\" class=\"data row3 col0\" >Original data shape</td>\n",
       "      <td id=\"T_671ec_row3_col1\" class=\"data row3 col1\" >(76222, 12)</td>\n",
       "    </tr>\n",
       "    <tr>\n",
       "      <th id=\"T_671ec_level0_row4\" class=\"row_heading level0 row4\" >4</th>\n",
       "      <td id=\"T_671ec_row4_col0\" class=\"data row4 col0\" >Transformed data shape</td>\n",
       "      <td id=\"T_671ec_row4_col1\" class=\"data row4 col1\" >(76222, 14)</td>\n",
       "    </tr>\n",
       "    <tr>\n",
       "      <th id=\"T_671ec_level0_row5\" class=\"row_heading level0 row5\" >5</th>\n",
       "      <td id=\"T_671ec_row5_col0\" class=\"data row5 col0\" >Transformed train set shape</td>\n",
       "      <td id=\"T_671ec_row5_col1\" class=\"data row5 col1\" >(53355, 14)</td>\n",
       "    </tr>\n",
       "    <tr>\n",
       "      <th id=\"T_671ec_level0_row6\" class=\"row_heading level0 row6\" >6</th>\n",
       "      <td id=\"T_671ec_row6_col0\" class=\"data row6 col0\" >Transformed test set shape</td>\n",
       "      <td id=\"T_671ec_row6_col1\" class=\"data row6 col1\" >(22867, 14)</td>\n",
       "    </tr>\n",
       "    <tr>\n",
       "      <th id=\"T_671ec_level0_row7\" class=\"row_heading level0 row7\" >7</th>\n",
       "      <td id=\"T_671ec_row7_col0\" class=\"data row7 col0\" >Numeric features</td>\n",
       "      <td id=\"T_671ec_row7_col1\" class=\"data row7 col1\" >9</td>\n",
       "    </tr>\n",
       "    <tr>\n",
       "      <th id=\"T_671ec_level0_row8\" class=\"row_heading level0 row8\" >8</th>\n",
       "      <td id=\"T_671ec_row8_col0\" class=\"data row8 col0\" >Categorical features</td>\n",
       "      <td id=\"T_671ec_row8_col1\" class=\"data row8 col1\" >2</td>\n",
       "    </tr>\n",
       "    <tr>\n",
       "      <th id=\"T_671ec_level0_row9\" class=\"row_heading level0 row9\" >9</th>\n",
       "      <td id=\"T_671ec_row9_col0\" class=\"data row9 col0\" >Preprocess</td>\n",
       "      <td id=\"T_671ec_row9_col1\" class=\"data row9 col1\" >True</td>\n",
       "    </tr>\n",
       "    <tr>\n",
       "      <th id=\"T_671ec_level0_row10\" class=\"row_heading level0 row10\" >10</th>\n",
       "      <td id=\"T_671ec_row10_col0\" class=\"data row10 col0\" >Imputation type</td>\n",
       "      <td id=\"T_671ec_row10_col1\" class=\"data row10 col1\" >simple</td>\n",
       "    </tr>\n",
       "    <tr>\n",
       "      <th id=\"T_671ec_level0_row11\" class=\"row_heading level0 row11\" >11</th>\n",
       "      <td id=\"T_671ec_row11_col0\" class=\"data row11 col0\" >Numeric imputation</td>\n",
       "      <td id=\"T_671ec_row11_col1\" class=\"data row11 col1\" >mean</td>\n",
       "    </tr>\n",
       "    <tr>\n",
       "      <th id=\"T_671ec_level0_row12\" class=\"row_heading level0 row12\" >12</th>\n",
       "      <td id=\"T_671ec_row12_col0\" class=\"data row12 col0\" >Categorical imputation</td>\n",
       "      <td id=\"T_671ec_row12_col1\" class=\"data row12 col1\" >mode</td>\n",
       "    </tr>\n",
       "    <tr>\n",
       "      <th id=\"T_671ec_level0_row13\" class=\"row_heading level0 row13\" >13</th>\n",
       "      <td id=\"T_671ec_row13_col0\" class=\"data row13 col0\" >Maximum one-hot encoding</td>\n",
       "      <td id=\"T_671ec_row13_col1\" class=\"data row13 col1\" >25</td>\n",
       "    </tr>\n",
       "    <tr>\n",
       "      <th id=\"T_671ec_level0_row14\" class=\"row_heading level0 row14\" >14</th>\n",
       "      <td id=\"T_671ec_row14_col0\" class=\"data row14 col0\" >Encoding method</td>\n",
       "      <td id=\"T_671ec_row14_col1\" class=\"data row14 col1\" >None</td>\n",
       "    </tr>\n",
       "    <tr>\n",
       "      <th id=\"T_671ec_level0_row15\" class=\"row_heading level0 row15\" >15</th>\n",
       "      <td id=\"T_671ec_row15_col0\" class=\"data row15 col0\" >Normalize</td>\n",
       "      <td id=\"T_671ec_row15_col1\" class=\"data row15 col1\" >True</td>\n",
       "    </tr>\n",
       "    <tr>\n",
       "      <th id=\"T_671ec_level0_row16\" class=\"row_heading level0 row16\" >16</th>\n",
       "      <td id=\"T_671ec_row16_col0\" class=\"data row16 col0\" >Normalize method</td>\n",
       "      <td id=\"T_671ec_row16_col1\" class=\"data row16 col1\" >zscore</td>\n",
       "    </tr>\n",
       "    <tr>\n",
       "      <th id=\"T_671ec_level0_row17\" class=\"row_heading level0 row17\" >17</th>\n",
       "      <td id=\"T_671ec_row17_col0\" class=\"data row17 col0\" >Fold Generator</td>\n",
       "      <td id=\"T_671ec_row17_col1\" class=\"data row17 col1\" >StratifiedKFold</td>\n",
       "    </tr>\n",
       "    <tr>\n",
       "      <th id=\"T_671ec_level0_row18\" class=\"row_heading level0 row18\" >18</th>\n",
       "      <td id=\"T_671ec_row18_col0\" class=\"data row18 col0\" >Fold Number</td>\n",
       "      <td id=\"T_671ec_row18_col1\" class=\"data row18 col1\" >10</td>\n",
       "    </tr>\n",
       "    <tr>\n",
       "      <th id=\"T_671ec_level0_row19\" class=\"row_heading level0 row19\" >19</th>\n",
       "      <td id=\"T_671ec_row19_col0\" class=\"data row19 col0\" >CPU Jobs</td>\n",
       "      <td id=\"T_671ec_row19_col1\" class=\"data row19 col1\" >-1</td>\n",
       "    </tr>\n",
       "    <tr>\n",
       "      <th id=\"T_671ec_level0_row20\" class=\"row_heading level0 row20\" >20</th>\n",
       "      <td id=\"T_671ec_row20_col0\" class=\"data row20 col0\" >Use GPU</td>\n",
       "      <td id=\"T_671ec_row20_col1\" class=\"data row20 col1\" >False</td>\n",
       "    </tr>\n",
       "    <tr>\n",
       "      <th id=\"T_671ec_level0_row21\" class=\"row_heading level0 row21\" >21</th>\n",
       "      <td id=\"T_671ec_row21_col0\" class=\"data row21 col0\" >Log Experiment</td>\n",
       "      <td id=\"T_671ec_row21_col1\" class=\"data row21 col1\" >False</td>\n",
       "    </tr>\n",
       "    <tr>\n",
       "      <th id=\"T_671ec_level0_row22\" class=\"row_heading level0 row22\" >22</th>\n",
       "      <td id=\"T_671ec_row22_col0\" class=\"data row22 col0\" >Experiment Name</td>\n",
       "      <td id=\"T_671ec_row22_col1\" class=\"data row22 col1\" >clf-default-name</td>\n",
       "    </tr>\n",
       "    <tr>\n",
       "      <th id=\"T_671ec_level0_row23\" class=\"row_heading level0 row23\" >23</th>\n",
       "      <td id=\"T_671ec_row23_col0\" class=\"data row23 col0\" >USI</td>\n",
       "      <td id=\"T_671ec_row23_col1\" class=\"data row23 col1\" >cb20</td>\n",
       "    </tr>\n",
       "  </tbody>\n",
       "</table>\n"
      ],
      "text/plain": [
       "<pandas.io.formats.style.Styler at 0x32b3e00a0>"
      ]
     },
     "metadata": {},
     "output_type": "display_data"
    }
   ],
   "source": [
    "s = setup(train, target = 'response',normalize=True ,session_id = 123)"
   ]
  },
  {
   "cell_type": "markdown",
   "metadata": {},
   "source": [
    "Once the setup has been successfully executed it shows the information grid containing experiment level information. \n",
    "\n",
    "- **Session id:**  A pseudo-random number distributed as a seed in all functions for later reproducibility. If no `session_id` is passed, a random number is automatically generated that is distributed to all functions.<br/>\n",
    "<br/>\n",
    "- **Target type:**  Binary, Multiclass, or Regression. The Target type is automatically detected. <br/>\n",
    "<br/>\n",
    "- **Label Encoding:**  When the Target variable is of type string (i.e. 'Yes' or 'No') instead of 1 or 0, it automatically encodes the label into 1 and 0 and displays the mapping (0 : No, 1 : Yes) for reference. In this tutorial, no label encoding is required since the target variable is of numeric type. <br/>\n",
    "<br/>\n",
    "- **Original data shape:**  Shape of the original data prior to any transformations. <br/>\n",
    "<br/>\n",
    "- **Transformed train set shape :**  Shape of transformed train set <br/>\n",
    "<br/>\n",
    "- **Transformed test set shape :**  Shape of transformed test set <br/>\n",
    "<br/>\n",
    "- **Numeric features :**  The number of features considered as numerical. <br/>\n",
    "<br/>\n",
    "- **Categorical features :**  The number of features considered as categorical. <br/>"
   ]
  },
  {
   "cell_type": "markdown",
   "metadata": {},
   "source": [
    "### 5.3 - Compare Models\n",
    "\n",
    "This function trains and evaluates the performance of all the estimators available in the model library using cross-validation. The output of this function is a scoring grid with average cross-validated scores. Metrics evaluated during CV can be accessed using the `get_metrics` function. Custom metrics can be added or removed using `add_metric` and `remove_metric` function."
   ]
  },
  {
   "cell_type": "code",
   "execution_count": 35,
   "metadata": {},
   "outputs": [
    {
     "data": {
      "text/html": [],
      "text/plain": [
       "<IPython.core.display.HTML object>"
      ]
     },
     "metadata": {},
     "output_type": "display_data"
    },
    {
     "data": {
      "text/html": [
       "<style type=\"text/css\">\n",
       "#T_5e718 th {\n",
       "  text-align: left;\n",
       "}\n",
       "#T_5e718_row0_col0, #T_5e718_row0_col2, #T_5e718_row0_col3, #T_5e718_row0_col4, #T_5e718_row0_col5, #T_5e718_row0_col6, #T_5e718_row0_col7, #T_5e718_row1_col0, #T_5e718_row1_col2, #T_5e718_row1_col3, #T_5e718_row1_col4, #T_5e718_row1_col5, #T_5e718_row1_col6, #T_5e718_row1_col7, #T_5e718_row2_col0, #T_5e718_row2_col2, #T_5e718_row2_col3, #T_5e718_row2_col4, #T_5e718_row2_col5, #T_5e718_row2_col6, #T_5e718_row2_col7, #T_5e718_row3_col0, #T_5e718_row3_col1, #T_5e718_row3_col2, #T_5e718_row3_col3, #T_5e718_row3_col4, #T_5e718_row3_col5, #T_5e718_row3_col6, #T_5e718_row3_col7, #T_5e718_row4_col0, #T_5e718_row4_col1, #T_5e718_row4_col2, #T_5e718_row4_col3, #T_5e718_row4_col4, #T_5e718_row4_col5, #T_5e718_row4_col6, #T_5e718_row4_col7, #T_5e718_row5_col0, #T_5e718_row5_col1, #T_5e718_row5_col3, #T_5e718_row5_col4, #T_5e718_row5_col5, #T_5e718_row5_col6, #T_5e718_row5_col7, #T_5e718_row6_col0, #T_5e718_row6_col1, #T_5e718_row6_col2, #T_5e718_row6_col3, #T_5e718_row6_col4, #T_5e718_row6_col5, #T_5e718_row6_col6, #T_5e718_row6_col7, #T_5e718_row7_col0, #T_5e718_row7_col1, #T_5e718_row7_col2, #T_5e718_row7_col3, #T_5e718_row7_col5, #T_5e718_row7_col6, #T_5e718_row7_col7, #T_5e718_row8_col0, #T_5e718_row8_col1, #T_5e718_row8_col2, #T_5e718_row8_col3, #T_5e718_row8_col4, #T_5e718_row8_col5, #T_5e718_row8_col6, #T_5e718_row8_col7, #T_5e718_row9_col0, #T_5e718_row9_col1, #T_5e718_row9_col2, #T_5e718_row9_col3, #T_5e718_row9_col4, #T_5e718_row9_col5, #T_5e718_row9_col6, #T_5e718_row9_col7, #T_5e718_row10_col0, #T_5e718_row10_col1, #T_5e718_row10_col2, #T_5e718_row10_col3, #T_5e718_row10_col4, #T_5e718_row10_col5, #T_5e718_row10_col6, #T_5e718_row10_col7, #T_5e718_row11_col0, #T_5e718_row11_col1, #T_5e718_row11_col2, #T_5e718_row11_col3, #T_5e718_row11_col4, #T_5e718_row11_col5, #T_5e718_row11_col6, #T_5e718_row11_col7, #T_5e718_row12_col0, #T_5e718_row12_col1, #T_5e718_row12_col2, #T_5e718_row12_col3, #T_5e718_row12_col4, #T_5e718_row13_col0, #T_5e718_row13_col1, #T_5e718_row13_col2, #T_5e718_row13_col4, #T_5e718_row13_col5, #T_5e718_row13_col6, #T_5e718_row13_col7 {\n",
       "  text-align: left;\n",
       "}\n",
       "#T_5e718_row0_col1, #T_5e718_row1_col1, #T_5e718_row2_col1, #T_5e718_row5_col2, #T_5e718_row7_col4, #T_5e718_row12_col5, #T_5e718_row12_col6, #T_5e718_row12_col7, #T_5e718_row13_col3 {\n",
       "  text-align: left;\n",
       "  background-color: yellow;\n",
       "}\n",
       "#T_5e718_row0_col8, #T_5e718_row1_col8, #T_5e718_row2_col8, #T_5e718_row3_col8, #T_5e718_row4_col8, #T_5e718_row5_col8, #T_5e718_row7_col8, #T_5e718_row8_col8, #T_5e718_row9_col8, #T_5e718_row10_col8, #T_5e718_row11_col8, #T_5e718_row12_col8, #T_5e718_row13_col8 {\n",
       "  text-align: left;\n",
       "  background-color: lightgrey;\n",
       "}\n",
       "#T_5e718_row6_col8 {\n",
       "  text-align: left;\n",
       "  background-color: yellow;\n",
       "  background-color: lightgrey;\n",
       "}\n",
       "</style>\n",
       "<table id=\"T_5e718\">\n",
       "  <thead>\n",
       "    <tr>\n",
       "      <th class=\"blank level0\" >&nbsp;</th>\n",
       "      <th id=\"T_5e718_level0_col0\" class=\"col_heading level0 col0\" >Model</th>\n",
       "      <th id=\"T_5e718_level0_col1\" class=\"col_heading level0 col1\" >Accuracy</th>\n",
       "      <th id=\"T_5e718_level0_col2\" class=\"col_heading level0 col2\" >AUC</th>\n",
       "      <th id=\"T_5e718_level0_col3\" class=\"col_heading level0 col3\" >Recall</th>\n",
       "      <th id=\"T_5e718_level0_col4\" class=\"col_heading level0 col4\" >Prec.</th>\n",
       "      <th id=\"T_5e718_level0_col5\" class=\"col_heading level0 col5\" >F1</th>\n",
       "      <th id=\"T_5e718_level0_col6\" class=\"col_heading level0 col6\" >Kappa</th>\n",
       "      <th id=\"T_5e718_level0_col7\" class=\"col_heading level0 col7\" >MCC</th>\n",
       "      <th id=\"T_5e718_level0_col8\" class=\"col_heading level0 col8\" >TT (Sec)</th>\n",
       "    </tr>\n",
       "  </thead>\n",
       "  <tbody>\n",
       "    <tr>\n",
       "      <th id=\"T_5e718_level0_row0\" class=\"row_heading level0 row0\" >lr</th>\n",
       "      <td id=\"T_5e718_row0_col0\" class=\"data row0 col0\" >Logistic Regression</td>\n",
       "      <td id=\"T_5e718_row0_col1\" class=\"data row0 col1\" >0.8785</td>\n",
       "      <td id=\"T_5e718_row0_col2\" class=\"data row0 col2\" >0.8360</td>\n",
       "      <td id=\"T_5e718_row0_col3\" class=\"data row0 col3\" >0.0000</td>\n",
       "      <td id=\"T_5e718_row0_col4\" class=\"data row0 col4\" >0.0000</td>\n",
       "      <td id=\"T_5e718_row0_col5\" class=\"data row0 col5\" >0.0000</td>\n",
       "      <td id=\"T_5e718_row0_col6\" class=\"data row0 col6\" >0.0000</td>\n",
       "      <td id=\"T_5e718_row0_col7\" class=\"data row0 col7\" >0.0000</td>\n",
       "      <td id=\"T_5e718_row0_col8\" class=\"data row0 col8\" >0.2990</td>\n",
       "    </tr>\n",
       "    <tr>\n",
       "      <th id=\"T_5e718_level0_row1\" class=\"row_heading level0 row1\" >ridge</th>\n",
       "      <td id=\"T_5e718_row1_col0\" class=\"data row1 col0\" >Ridge Classifier</td>\n",
       "      <td id=\"T_5e718_row1_col1\" class=\"data row1 col1\" >0.8785</td>\n",
       "      <td id=\"T_5e718_row1_col2\" class=\"data row1 col2\" >0.8330</td>\n",
       "      <td id=\"T_5e718_row1_col3\" class=\"data row1 col3\" >0.0000</td>\n",
       "      <td id=\"T_5e718_row1_col4\" class=\"data row1 col4\" >0.0000</td>\n",
       "      <td id=\"T_5e718_row1_col5\" class=\"data row1 col5\" >0.0000</td>\n",
       "      <td id=\"T_5e718_row1_col6\" class=\"data row1 col6\" >0.0000</td>\n",
       "      <td id=\"T_5e718_row1_col7\" class=\"data row1 col7\" >0.0000</td>\n",
       "      <td id=\"T_5e718_row1_col8\" class=\"data row1 col8\" >0.0380</td>\n",
       "    </tr>\n",
       "    <tr>\n",
       "      <th id=\"T_5e718_level0_row2\" class=\"row_heading level0 row2\" >dummy</th>\n",
       "      <td id=\"T_5e718_row2_col0\" class=\"data row2 col0\" >Dummy Classifier</td>\n",
       "      <td id=\"T_5e718_row2_col1\" class=\"data row2 col1\" >0.8785</td>\n",
       "      <td id=\"T_5e718_row2_col2\" class=\"data row2 col2\" >0.5000</td>\n",
       "      <td id=\"T_5e718_row2_col3\" class=\"data row2 col3\" >0.0000</td>\n",
       "      <td id=\"T_5e718_row2_col4\" class=\"data row2 col4\" >0.0000</td>\n",
       "      <td id=\"T_5e718_row2_col5\" class=\"data row2 col5\" >0.0000</td>\n",
       "      <td id=\"T_5e718_row2_col6\" class=\"data row2 col6\" >0.0000</td>\n",
       "      <td id=\"T_5e718_row2_col7\" class=\"data row2 col7\" >0.0000</td>\n",
       "      <td id=\"T_5e718_row2_col8\" class=\"data row2 col8\" >0.0360</td>\n",
       "    </tr>\n",
       "    <tr>\n",
       "      <th id=\"T_5e718_level0_row3\" class=\"row_heading level0 row3\" >svm</th>\n",
       "      <td id=\"T_5e718_row3_col0\" class=\"data row3 col0\" >SVM - Linear Kernel</td>\n",
       "      <td id=\"T_5e718_row3_col1\" class=\"data row3 col1\" >0.8784</td>\n",
       "      <td id=\"T_5e718_row3_col2\" class=\"data row3 col2\" >0.8007</td>\n",
       "      <td id=\"T_5e718_row3_col3\" class=\"data row3 col3\" >0.0000</td>\n",
       "      <td id=\"T_5e718_row3_col4\" class=\"data row3 col4\" >0.0000</td>\n",
       "      <td id=\"T_5e718_row3_col5\" class=\"data row3 col5\" >0.0000</td>\n",
       "      <td id=\"T_5e718_row3_col6\" class=\"data row3 col6\" >-0.0000</td>\n",
       "      <td id=\"T_5e718_row3_col7\" class=\"data row3 col7\" >-0.0005</td>\n",
       "      <td id=\"T_5e718_row3_col8\" class=\"data row3 col8\" >0.0490</td>\n",
       "    </tr>\n",
       "    <tr>\n",
       "      <th id=\"T_5e718_level0_row4\" class=\"row_heading level0 row4\" >ada</th>\n",
       "      <td id=\"T_5e718_row4_col0\" class=\"data row4 col0\" >Ada Boost Classifier</td>\n",
       "      <td id=\"T_5e718_row4_col1\" class=\"data row4 col1\" >0.8784</td>\n",
       "      <td id=\"T_5e718_row4_col2\" class=\"data row4 col2\" >0.8503</td>\n",
       "      <td id=\"T_5e718_row4_col3\" class=\"data row4 col3\" >0.0015</td>\n",
       "      <td id=\"T_5e718_row4_col4\" class=\"data row4 col4\" >0.3700</td>\n",
       "      <td id=\"T_5e718_row4_col5\" class=\"data row4 col5\" >0.0031</td>\n",
       "      <td id=\"T_5e718_row4_col6\" class=\"data row4 col6\" >0.0022</td>\n",
       "      <td id=\"T_5e718_row4_col7\" class=\"data row4 col7\" >0.0183</td>\n",
       "      <td id=\"T_5e718_row4_col8\" class=\"data row4 col8\" >0.1650</td>\n",
       "    </tr>\n",
       "    <tr>\n",
       "      <th id=\"T_5e718_level0_row5\" class=\"row_heading level0 row5\" >gbc</th>\n",
       "      <td id=\"T_5e718_row5_col0\" class=\"data row5 col0\" >Gradient Boosting Classifier</td>\n",
       "      <td id=\"T_5e718_row5_col1\" class=\"data row5 col1\" >0.8782</td>\n",
       "      <td id=\"T_5e718_row5_col2\" class=\"data row5 col2\" >0.8554</td>\n",
       "      <td id=\"T_5e718_row5_col3\" class=\"data row5 col3\" >0.0006</td>\n",
       "      <td id=\"T_5e718_row5_col4\" class=\"data row5 col4\" >0.1167</td>\n",
       "      <td id=\"T_5e718_row5_col5\" class=\"data row5 col5\" >0.0012</td>\n",
       "      <td id=\"T_5e718_row5_col6\" class=\"data row5 col6\" >0.0005</td>\n",
       "      <td id=\"T_5e718_row5_col7\" class=\"data row5 col7\" >0.0023</td>\n",
       "      <td id=\"T_5e718_row5_col8\" class=\"data row5 col8\" >0.6620</td>\n",
       "    </tr>\n",
       "    <tr>\n",
       "      <th id=\"T_5e718_level0_row6\" class=\"row_heading level0 row6\" >lda</th>\n",
       "      <td id=\"T_5e718_row6_col0\" class=\"data row6 col0\" >Linear Discriminant Analysis</td>\n",
       "      <td id=\"T_5e718_row6_col1\" class=\"data row6 col1\" >0.8781</td>\n",
       "      <td id=\"T_5e718_row6_col2\" class=\"data row6 col2\" >0.8330</td>\n",
       "      <td id=\"T_5e718_row6_col3\" class=\"data row6 col3\" >0.0029</td>\n",
       "      <td id=\"T_5e718_row6_col4\" class=\"data row6 col4\" >0.3536</td>\n",
       "      <td id=\"T_5e718_row6_col5\" class=\"data row6 col5\" >0.0058</td>\n",
       "      <td id=\"T_5e718_row6_col6\" class=\"data row6 col6\" >0.0036</td>\n",
       "      <td id=\"T_5e718_row6_col7\" class=\"data row6 col7\" >0.0216</td>\n",
       "      <td id=\"T_5e718_row6_col8\" class=\"data row6 col8\" >0.0320</td>\n",
       "    </tr>\n",
       "    <tr>\n",
       "      <th id=\"T_5e718_level0_row7\" class=\"row_heading level0 row7\" >lightgbm</th>\n",
       "      <td id=\"T_5e718_row7_col0\" class=\"data row7 col0\" >Light Gradient Boosting Machine</td>\n",
       "      <td id=\"T_5e718_row7_col1\" class=\"data row7 col1\" >0.8778</td>\n",
       "      <td id=\"T_5e718_row7_col2\" class=\"data row7 col2\" >0.8539</td>\n",
       "      <td id=\"T_5e718_row7_col3\" class=\"data row7 col3\" >0.0190</td>\n",
       "      <td id=\"T_5e718_row7_col4\" class=\"data row7 col4\" >0.4391</td>\n",
       "      <td id=\"T_5e718_row7_col5\" class=\"data row7 col5\" >0.0363</td>\n",
       "      <td id=\"T_5e718_row7_col6\" class=\"data row7 col6\" >0.0265</td>\n",
       "      <td id=\"T_5e718_row7_col7\" class=\"data row7 col7\" >0.0701</td>\n",
       "      <td id=\"T_5e718_row7_col8\" class=\"data row7 col8\" >0.4850</td>\n",
       "    </tr>\n",
       "    <tr>\n",
       "      <th id=\"T_5e718_level0_row8\" class=\"row_heading level0 row8\" >rf</th>\n",
       "      <td id=\"T_5e718_row8_col0\" class=\"data row8 col0\" >Random Forest Classifier</td>\n",
       "      <td id=\"T_5e718_row8_col1\" class=\"data row8 col1\" >0.8735</td>\n",
       "      <td id=\"T_5e718_row8_col2\" class=\"data row8 col2\" >0.8387</td>\n",
       "      <td id=\"T_5e718_row8_col3\" class=\"data row8 col3\" >0.0683</td>\n",
       "      <td id=\"T_5e718_row8_col4\" class=\"data row8 col4\" >0.3867</td>\n",
       "      <td id=\"T_5e718_row8_col5\" class=\"data row8 col5\" >0.1161</td>\n",
       "      <td id=\"T_5e718_row8_col6\" class=\"data row8 col6\" >0.0825</td>\n",
       "      <td id=\"T_5e718_row8_col7\" class=\"data row8 col7\" >0.1201</td>\n",
       "      <td id=\"T_5e718_row8_col8\" class=\"data row8 col8\" >0.5430</td>\n",
       "    </tr>\n",
       "    <tr>\n",
       "      <th id=\"T_5e718_level0_row9\" class=\"row_heading level0 row9\" >et</th>\n",
       "      <td id=\"T_5e718_row9_col0\" class=\"data row9 col0\" >Extra Trees Classifier</td>\n",
       "      <td id=\"T_5e718_row9_col1\" class=\"data row9 col1\" >0.8713</td>\n",
       "      <td id=\"T_5e718_row9_col2\" class=\"data row9 col2\" >0.8341</td>\n",
       "      <td id=\"T_5e718_row9_col3\" class=\"data row9 col3\" >0.0794</td>\n",
       "      <td id=\"T_5e718_row9_col4\" class=\"data row9 col4\" >0.3647</td>\n",
       "      <td id=\"T_5e718_row9_col5\" class=\"data row9 col5\" >0.1303</td>\n",
       "      <td id=\"T_5e718_row9_col6\" class=\"data row9 col6\" >0.0908</td>\n",
       "      <td id=\"T_5e718_row9_col7\" class=\"data row9 col7\" >0.1226</td>\n",
       "      <td id=\"T_5e718_row9_col8\" class=\"data row9 col8\" >0.3110</td>\n",
       "    </tr>\n",
       "    <tr>\n",
       "      <th id=\"T_5e718_level0_row10\" class=\"row_heading level0 row10\" >knn</th>\n",
       "      <td id=\"T_5e718_row10_col0\" class=\"data row10 col0\" >K Neighbors Classifier</td>\n",
       "      <td id=\"T_5e718_row10_col1\" class=\"data row10 col1\" >0.8547</td>\n",
       "      <td id=\"T_5e718_row10_col2\" class=\"data row10 col2\" >0.7494</td>\n",
       "      <td id=\"T_5e718_row10_col3\" class=\"data row10 col3\" >0.1596</td>\n",
       "      <td id=\"T_5e718_row10_col4\" class=\"data row10 col4\" >0.3107</td>\n",
       "      <td id=\"T_5e718_row10_col5\" class=\"data row10 col5\" >0.2108</td>\n",
       "      <td id=\"T_5e718_row10_col6\" class=\"data row10 col6\" >0.1397</td>\n",
       "      <td id=\"T_5e718_row10_col7\" class=\"data row10 col7\" >0.1492</td>\n",
       "      <td id=\"T_5e718_row10_col8\" class=\"data row10 col8\" >0.3590</td>\n",
       "    </tr>\n",
       "    <tr>\n",
       "      <th id=\"T_5e718_level0_row11\" class=\"row_heading level0 row11\" >dt</th>\n",
       "      <td id=\"T_5e718_row11_col0\" class=\"data row11 col0\" >Decision Tree Classifier</td>\n",
       "      <td id=\"T_5e718_row11_col1\" class=\"data row11 col1\" >0.8223</td>\n",
       "      <td id=\"T_5e718_row11_col2\" class=\"data row11 col2\" >0.5991</td>\n",
       "      <td id=\"T_5e718_row11_col3\" class=\"data row11 col3\" >0.3042</td>\n",
       "      <td id=\"T_5e718_row11_col4\" class=\"data row11 col4\" >0.2840</td>\n",
       "      <td id=\"T_5e718_row11_col5\" class=\"data row11 col5\" >0.2937</td>\n",
       "      <td id=\"T_5e718_row11_col6\" class=\"data row11 col6\" >0.1922</td>\n",
       "      <td id=\"T_5e718_row11_col7\" class=\"data row11 col7\" >0.1924</td>\n",
       "      <td id=\"T_5e718_row11_col8\" class=\"data row11 col8\" >0.0530</td>\n",
       "    </tr>\n",
       "    <tr>\n",
       "      <th id=\"T_5e718_level0_row12\" class=\"row_heading level0 row12\" >nb</th>\n",
       "      <td id=\"T_5e718_row12_col0\" class=\"data row12 col0\" >Naive Bayes</td>\n",
       "      <td id=\"T_5e718_row12_col1\" class=\"data row12 col1\" >0.7184</td>\n",
       "      <td id=\"T_5e718_row12_col2\" class=\"data row12 col2\" >0.8215</td>\n",
       "      <td id=\"T_5e718_row12_col3\" class=\"data row12 col3\" >0.8526</td>\n",
       "      <td id=\"T_5e718_row12_col4\" class=\"data row12 col4\" >0.2821</td>\n",
       "      <td id=\"T_5e718_row12_col5\" class=\"data row12 col5\" >0.4240</td>\n",
       "      <td id=\"T_5e718_row12_col6\" class=\"data row12 col6\" >0.2952</td>\n",
       "      <td id=\"T_5e718_row12_col7\" class=\"data row12 col7\" >0.3744</td>\n",
       "      <td id=\"T_5e718_row12_col8\" class=\"data row12 col8\" >0.0350</td>\n",
       "    </tr>\n",
       "    <tr>\n",
       "      <th id=\"T_5e718_level0_row13\" class=\"row_heading level0 row13\" >qda</th>\n",
       "      <td id=\"T_5e718_row13_col0\" class=\"data row13 col0\" >Quadratic Discriminant Analysis</td>\n",
       "      <td id=\"T_5e718_row13_col1\" class=\"data row13 col1\" >0.6969</td>\n",
       "      <td id=\"T_5e718_row13_col2\" class=\"data row13 col2\" >0.8356</td>\n",
       "      <td id=\"T_5e718_row13_col3\" class=\"data row13 col3\" >0.8745</td>\n",
       "      <td id=\"T_5e718_row13_col4\" class=\"data row13 col4\" >0.2763</td>\n",
       "      <td id=\"T_5e718_row13_col5\" class=\"data row13 col5\" >0.4141</td>\n",
       "      <td id=\"T_5e718_row13_col6\" class=\"data row13 col6\" >0.2821</td>\n",
       "      <td id=\"T_5e718_row13_col7\" class=\"data row13 col7\" >0.3719</td>\n",
       "      <td id=\"T_5e718_row13_col8\" class=\"data row13 col8\" >0.0390</td>\n",
       "    </tr>\n",
       "  </tbody>\n",
       "</table>\n"
      ],
      "text/plain": [
       "<pandas.io.formats.style.Styler at 0x329d869d0>"
      ]
     },
     "metadata": {},
     "output_type": "display_data"
    },
    {
     "data": {
      "text/html": [],
      "text/plain": [
       "<IPython.core.display.HTML object>"
      ]
     },
     "metadata": {},
     "output_type": "display_data"
    }
   ],
   "source": [
    "# compare baseline models\n",
    "best = compare_models()"
   ]
  },
  {
   "cell_type": "markdown",
   "metadata": {},
   "source": [
    "The AUC, or Area Under the ROC Curve, is a valuable metric used to assess the performance of binary classification models. It quantifies the overall ability of a model to discriminate between positive and negative classes.\n",
    "\n",
    "Here's a breakdown of the AUC and its relationship to the ROC curve:\n",
    "\n",
    "**ROC Curve (Receiver Operating Characteristic Curve)**\n",
    "\n",
    "* The ROC curve is a graphical plot that illustrates the diagnostic ability of a binary classifier system as its discrimination threshold is varied.\n",
    "* It plots the true positive rate (TPR) against the false positive rate (FPR) at various threshold settings.\n",
    "* The TPR is the proportion of actual positive samples that are correctly identified.\n",
    "* The FPR is the proportion of actual negative samples that are incorrectly identified.\n",
    "\n",
    "**AUC (Area Under the ROC Curve)**\n",
    "\n",
    "* The AUC is a summary measure of the model's performance, calculated as the area under the ROC curve.\n",
    "* It ranges from 0 to 1, with 1 indicating perfect classification and 0.5 indicating random chance.\n",
    "* A higher AUC value indicates better discrimination ability of the model.\n",
    "\n",
    "**Relationship Between ROC Curve and AUC**\n",
    "\n",
    "* The AUC summarizes the ROC curve into a single scalar value, making it easier to compare different models.\n",
    "* It represents the probability that the model will rank a randomly chosen positive instance higher than a randomly chosen negative instance.\n",
    "* The ROC curve provides a visual representation of the model's performance at different thresholds, while the AUC provides an overall measure of the model's discriminatory power.\n",
    "\n",
    "**Advantages of AUC**\n",
    "\n",
    "* Threshold independence: The AUC evaluates the model's performance across all thresholds, making it robust for comparing models with different probability distributions.\n",
    "* Interpretability: The AUC represents the probability that the model will correctly rank a random positive sample higher than a random negative sample.\n",
    "* Application to imbalanced classes: The AUC is useful even when dealing with imbalanced datasets, as it considers the ability of the model to classify both classes correctly.\n",
    "\n",
    "In essence, the AUC provides a way to quantify the overall performance of a binary classification model as represented by the ROC curve. It is a valuable metric for comparing different models and assessing their ability to accurately discriminate between classes."
   ]
  },
  {
   "cell_type": "markdown",
   "metadata": {},
   "source": [
    "I am going to choose `Gradient Bosting Classifier` because it's seems to give a better AUC score, anda a decent Accuracy"
   ]
  },
  {
   "cell_type": "markdown",
   "metadata": {},
   "source": [
    "### 5.4 - Instantiating the Model\n",
    "\n",
    "While `compare_models()` is a powerful function, and usually an excellent starting point, it does not return trained models. The workflow recommended by PyCaret is to use `compare_models` right after setup to evaluate which models perform best with the dataset and select a few candidates to continue experimenting with.\n",
    "\n",
    "Therefore, the function allows you to create models from the `create_model()` function. This function creates the model and evaluates it using stratified cross-validation.\n",
    "\n",
    "For this specific dataset, we'll focus on just one model, the ***Gradient Boosting Classifier***, or GBR, to keep things simple."
   ]
  },
  {
   "cell_type": "code",
   "execution_count": 37,
   "metadata": {},
   "outputs": [
    {
     "data": {
      "text/html": [],
      "text/plain": [
       "<IPython.core.display.HTML object>"
      ]
     },
     "metadata": {},
     "output_type": "display_data"
    },
    {
     "data": {
      "text/html": [
       "<style type=\"text/css\">\n",
       "#T_edf03_row10_col0, #T_edf03_row10_col1, #T_edf03_row10_col2, #T_edf03_row10_col3, #T_edf03_row10_col4, #T_edf03_row10_col5, #T_edf03_row10_col6 {\n",
       "  background: yellow;\n",
       "}\n",
       "</style>\n",
       "<table id=\"T_edf03\">\n",
       "  <thead>\n",
       "    <tr>\n",
       "      <th class=\"blank level0\" >&nbsp;</th>\n",
       "      <th id=\"T_edf03_level0_col0\" class=\"col_heading level0 col0\" >Accuracy</th>\n",
       "      <th id=\"T_edf03_level0_col1\" class=\"col_heading level0 col1\" >AUC</th>\n",
       "      <th id=\"T_edf03_level0_col2\" class=\"col_heading level0 col2\" >Recall</th>\n",
       "      <th id=\"T_edf03_level0_col3\" class=\"col_heading level0 col3\" >Prec.</th>\n",
       "      <th id=\"T_edf03_level0_col4\" class=\"col_heading level0 col4\" >F1</th>\n",
       "      <th id=\"T_edf03_level0_col5\" class=\"col_heading level0 col5\" >Kappa</th>\n",
       "      <th id=\"T_edf03_level0_col6\" class=\"col_heading level0 col6\" >MCC</th>\n",
       "    </tr>\n",
       "    <tr>\n",
       "      <th class=\"index_name level0\" >Fold</th>\n",
       "      <th class=\"blank col0\" >&nbsp;</th>\n",
       "      <th class=\"blank col1\" >&nbsp;</th>\n",
       "      <th class=\"blank col2\" >&nbsp;</th>\n",
       "      <th class=\"blank col3\" >&nbsp;</th>\n",
       "      <th class=\"blank col4\" >&nbsp;</th>\n",
       "      <th class=\"blank col5\" >&nbsp;</th>\n",
       "      <th class=\"blank col6\" >&nbsp;</th>\n",
       "    </tr>\n",
       "  </thead>\n",
       "  <tbody>\n",
       "    <tr>\n",
       "      <th id=\"T_edf03_level0_row0\" class=\"row_heading level0 row0\" >0</th>\n",
       "      <td id=\"T_edf03_row0_col0\" class=\"data row0 col0\" >0.8780</td>\n",
       "      <td id=\"T_edf03_row0_col1\" class=\"data row0 col1\" >0.8500</td>\n",
       "      <td id=\"T_edf03_row0_col2\" class=\"data row0 col2\" >0.0000</td>\n",
       "      <td id=\"T_edf03_row0_col3\" class=\"data row0 col3\" >0.0000</td>\n",
       "      <td id=\"T_edf03_row0_col4\" class=\"data row0 col4\" >0.0000</td>\n",
       "      <td id=\"T_edf03_row0_col5\" class=\"data row0 col5\" >-0.0007</td>\n",
       "      <td id=\"T_edf03_row0_col6\" class=\"data row0 col6\" >-0.0072</td>\n",
       "    </tr>\n",
       "    <tr>\n",
       "      <th id=\"T_edf03_level0_row1\" class=\"row_heading level0 row1\" >1</th>\n",
       "      <td id=\"T_edf03_row1_col0\" class=\"data row1 col0\" >0.8780</td>\n",
       "      <td id=\"T_edf03_row1_col1\" class=\"data row1 col1\" >0.8508</td>\n",
       "      <td id=\"T_edf03_row1_col2\" class=\"data row1 col2\" >0.0031</td>\n",
       "      <td id=\"T_edf03_row1_col3\" class=\"data row1 col3\" >0.3333</td>\n",
       "      <td id=\"T_edf03_row1_col4\" class=\"data row1 col4\" >0.0061</td>\n",
       "      <td id=\"T_edf03_row1_col5\" class=\"data row1 col5\" >0.0039</td>\n",
       "      <td id=\"T_edf03_row1_col6\" class=\"data row1 col6\" >0.0217</td>\n",
       "    </tr>\n",
       "    <tr>\n",
       "      <th id=\"T_edf03_level0_row2\" class=\"row_heading level0 row2\" >2</th>\n",
       "      <td id=\"T_edf03_row2_col0\" class=\"data row2 col0\" >0.8782</td>\n",
       "      <td id=\"T_edf03_row2_col1\" class=\"data row2 col1\" >0.8600</td>\n",
       "      <td id=\"T_edf03_row2_col2\" class=\"data row2 col2\" >0.0015</td>\n",
       "      <td id=\"T_edf03_row2_col3\" class=\"data row2 col3\" >0.3333</td>\n",
       "      <td id=\"T_edf03_row2_col4\" class=\"data row2 col4\" >0.0031</td>\n",
       "      <td id=\"T_edf03_row2_col5\" class=\"data row2 col5\" >0.0020</td>\n",
       "      <td id=\"T_edf03_row2_col6\" class=\"data row2 col6\" >0.0154</td>\n",
       "    </tr>\n",
       "    <tr>\n",
       "      <th id=\"T_edf03_level0_row3\" class=\"row_heading level0 row3\" >3</th>\n",
       "      <td id=\"T_edf03_row3_col0\" class=\"data row3 col0\" >0.8784</td>\n",
       "      <td id=\"T_edf03_row3_col1\" class=\"data row3 col1\" >0.8624</td>\n",
       "      <td id=\"T_edf03_row3_col2\" class=\"data row3 col2\" >0.0000</td>\n",
       "      <td id=\"T_edf03_row3_col3\" class=\"data row3 col3\" >0.0000</td>\n",
       "      <td id=\"T_edf03_row3_col4\" class=\"data row3 col4\" >0.0000</td>\n",
       "      <td id=\"T_edf03_row3_col5\" class=\"data row3 col5\" >0.0000</td>\n",
       "      <td id=\"T_edf03_row3_col6\" class=\"data row3 col6\" >0.0000</td>\n",
       "    </tr>\n",
       "    <tr>\n",
       "      <th id=\"T_edf03_level0_row4\" class=\"row_heading level0 row4\" >4</th>\n",
       "      <td id=\"T_edf03_row4_col0\" class=\"data row4 col0\" >0.8782</td>\n",
       "      <td id=\"T_edf03_row4_col1\" class=\"data row4 col1\" >0.8455</td>\n",
       "      <td id=\"T_edf03_row4_col2\" class=\"data row4 col2\" >0.0000</td>\n",
       "      <td id=\"T_edf03_row4_col3\" class=\"data row4 col3\" >0.0000</td>\n",
       "      <td id=\"T_edf03_row4_col4\" class=\"data row4 col4\" >0.0000</td>\n",
       "      <td id=\"T_edf03_row4_col5\" class=\"data row4 col5\" >-0.0004</td>\n",
       "      <td id=\"T_edf03_row4_col6\" class=\"data row4 col6\" >-0.0051</td>\n",
       "    </tr>\n",
       "    <tr>\n",
       "      <th id=\"T_edf03_level0_row5\" class=\"row_heading level0 row5\" >5</th>\n",
       "      <td id=\"T_edf03_row5_col0\" class=\"data row5 col0\" >0.8784</td>\n",
       "      <td id=\"T_edf03_row5_col1\" class=\"data row5 col1\" >0.8573</td>\n",
       "      <td id=\"T_edf03_row5_col2\" class=\"data row5 col2\" >0.0000</td>\n",
       "      <td id=\"T_edf03_row5_col3\" class=\"data row5 col3\" >0.0000</td>\n",
       "      <td id=\"T_edf03_row5_col4\" class=\"data row5 col4\" >0.0000</td>\n",
       "      <td id=\"T_edf03_row5_col5\" class=\"data row5 col5\" >-0.0004</td>\n",
       "      <td id=\"T_edf03_row5_col6\" class=\"data row5 col6\" >-0.0051</td>\n",
       "    </tr>\n",
       "    <tr>\n",
       "      <th id=\"T_edf03_level0_row6\" class=\"row_heading level0 row6\" >6</th>\n",
       "      <td id=\"T_edf03_row6_col0\" class=\"data row6 col0\" >0.8784</td>\n",
       "      <td id=\"T_edf03_row6_col1\" class=\"data row6 col1\" >0.8580</td>\n",
       "      <td id=\"T_edf03_row6_col2\" class=\"data row6 col2\" >0.0000</td>\n",
       "      <td id=\"T_edf03_row6_col3\" class=\"data row6 col3\" >0.0000</td>\n",
       "      <td id=\"T_edf03_row6_col4\" class=\"data row6 col4\" >0.0000</td>\n",
       "      <td id=\"T_edf03_row6_col5\" class=\"data row6 col5\" >-0.0004</td>\n",
       "      <td id=\"T_edf03_row6_col6\" class=\"data row6 col6\" >-0.0051</td>\n",
       "    </tr>\n",
       "    <tr>\n",
       "      <th id=\"T_edf03_level0_row7\" class=\"row_heading level0 row7\" >7</th>\n",
       "      <td id=\"T_edf03_row7_col0\" class=\"data row7 col0\" >0.8780</td>\n",
       "      <td id=\"T_edf03_row7_col1\" class=\"data row7 col1\" >0.8597</td>\n",
       "      <td id=\"T_edf03_row7_col2\" class=\"data row7 col2\" >0.0000</td>\n",
       "      <td id=\"T_edf03_row7_col3\" class=\"data row7 col3\" >0.0000</td>\n",
       "      <td id=\"T_edf03_row7_col4\" class=\"data row7 col4\" >0.0000</td>\n",
       "      <td id=\"T_edf03_row7_col5\" class=\"data row7 col5\" >-0.0011</td>\n",
       "      <td id=\"T_edf03_row7_col6\" class=\"data row7 col6\" >-0.0088</td>\n",
       "    </tr>\n",
       "    <tr>\n",
       "      <th id=\"T_edf03_level0_row8\" class=\"row_heading level0 row8\" >8</th>\n",
       "      <td id=\"T_edf03_row8_col0\" class=\"data row8 col0\" >0.8785</td>\n",
       "      <td id=\"T_edf03_row8_col1\" class=\"data row8 col1\" >0.8528</td>\n",
       "      <td id=\"T_edf03_row8_col2\" class=\"data row8 col2\" >0.0015</td>\n",
       "      <td id=\"T_edf03_row8_col3\" class=\"data row8 col3\" >0.5000</td>\n",
       "      <td id=\"T_edf03_row8_col4\" class=\"data row8 col4\" >0.0031</td>\n",
       "      <td id=\"T_edf03_row8_col5\" class=\"data row8 col5\" >0.0023</td>\n",
       "      <td id=\"T_edf03_row8_col6\" class=\"data row8 col6\" >0.0224</td>\n",
       "    </tr>\n",
       "    <tr>\n",
       "      <th id=\"T_edf03_level0_row9\" class=\"row_heading level0 row9\" >9</th>\n",
       "      <td id=\"T_edf03_row9_col0\" class=\"data row9 col0\" >0.8784</td>\n",
       "      <td id=\"T_edf03_row9_col1\" class=\"data row9 col1\" >0.8579</td>\n",
       "      <td id=\"T_edf03_row9_col2\" class=\"data row9 col2\" >0.0000</td>\n",
       "      <td id=\"T_edf03_row9_col3\" class=\"data row9 col3\" >0.0000</td>\n",
       "      <td id=\"T_edf03_row9_col4\" class=\"data row9 col4\" >0.0000</td>\n",
       "      <td id=\"T_edf03_row9_col5\" class=\"data row9 col5\" >-0.0004</td>\n",
       "      <td id=\"T_edf03_row9_col6\" class=\"data row9 col6\" >-0.0051</td>\n",
       "    </tr>\n",
       "    <tr>\n",
       "      <th id=\"T_edf03_level0_row10\" class=\"row_heading level0 row10\" >Mean</th>\n",
       "      <td id=\"T_edf03_row10_col0\" class=\"data row10 col0\" >0.8782</td>\n",
       "      <td id=\"T_edf03_row10_col1\" class=\"data row10 col1\" >0.8554</td>\n",
       "      <td id=\"T_edf03_row10_col2\" class=\"data row10 col2\" >0.0006</td>\n",
       "      <td id=\"T_edf03_row10_col3\" class=\"data row10 col3\" >0.1167</td>\n",
       "      <td id=\"T_edf03_row10_col4\" class=\"data row10 col4\" >0.0012</td>\n",
       "      <td id=\"T_edf03_row10_col5\" class=\"data row10 col5\" >0.0005</td>\n",
       "      <td id=\"T_edf03_row10_col6\" class=\"data row10 col6\" >0.0023</td>\n",
       "    </tr>\n",
       "    <tr>\n",
       "      <th id=\"T_edf03_level0_row11\" class=\"row_heading level0 row11\" >Std</th>\n",
       "      <td id=\"T_edf03_row11_col0\" class=\"data row11 col0\" >0.0002</td>\n",
       "      <td id=\"T_edf03_row11_col1\" class=\"data row11 col1\" >0.0051</td>\n",
       "      <td id=\"T_edf03_row11_col2\" class=\"data row11 col2\" >0.0010</td>\n",
       "      <td id=\"T_edf03_row11_col3\" class=\"data row11 col3\" >0.1833</td>\n",
       "      <td id=\"T_edf03_row11_col4\" class=\"data row11 col4\" >0.0020</td>\n",
       "      <td id=\"T_edf03_row11_col5\" class=\"data row11 col5\" >0.0016</td>\n",
       "      <td id=\"T_edf03_row11_col6\" class=\"data row11 col6\" >0.0118</td>\n",
       "    </tr>\n",
       "  </tbody>\n",
       "</table>\n"
      ],
      "text/plain": [
       "<pandas.io.formats.style.Styler at 0x32cc1d1f0>"
      ]
     },
     "metadata": {},
     "output_type": "display_data"
    },
    {
     "data": {
      "text/html": [],
      "text/plain": [
       "<IPython.core.display.HTML object>"
      ]
     },
     "metadata": {},
     "output_type": "display_data"
    }
   ],
   "source": [
    "gbc = create_model('gbc')"
   ]
  },
  {
   "cell_type": "markdown",
   "metadata": {},
   "source": [
    "### 5.5 -Tuning the Model\n",
    "\n",
    "When a model is created using `create_model()`, it uses the default hyperparameters for each model. To tune these hyperparameters, we use the `tune_model()` function.\n",
    "\n",
    "This function automatically tunes the hyperparameters and, once again, evaluates the model using cross-validation."
   ]
  },
  {
   "cell_type": "code",
   "execution_count": 39,
   "metadata": {},
   "outputs": [
    {
     "data": {
      "text/html": [],
      "text/plain": [
       "<IPython.core.display.HTML object>"
      ]
     },
     "metadata": {},
     "output_type": "display_data"
    },
    {
     "data": {
      "text/html": [
       "<style type=\"text/css\">\n",
       "#T_35b44_row10_col0, #T_35b44_row10_col1, #T_35b44_row10_col2, #T_35b44_row10_col3, #T_35b44_row10_col4, #T_35b44_row10_col5, #T_35b44_row10_col6 {\n",
       "  background: yellow;\n",
       "}\n",
       "</style>\n",
       "<table id=\"T_35b44\">\n",
       "  <thead>\n",
       "    <tr>\n",
       "      <th class=\"blank level0\" >&nbsp;</th>\n",
       "      <th id=\"T_35b44_level0_col0\" class=\"col_heading level0 col0\" >Accuracy</th>\n",
       "      <th id=\"T_35b44_level0_col1\" class=\"col_heading level0 col1\" >AUC</th>\n",
       "      <th id=\"T_35b44_level0_col2\" class=\"col_heading level0 col2\" >Recall</th>\n",
       "      <th id=\"T_35b44_level0_col3\" class=\"col_heading level0 col3\" >Prec.</th>\n",
       "      <th id=\"T_35b44_level0_col4\" class=\"col_heading level0 col4\" >F1</th>\n",
       "      <th id=\"T_35b44_level0_col5\" class=\"col_heading level0 col5\" >Kappa</th>\n",
       "      <th id=\"T_35b44_level0_col6\" class=\"col_heading level0 col6\" >MCC</th>\n",
       "    </tr>\n",
       "    <tr>\n",
       "      <th class=\"index_name level0\" >Fold</th>\n",
       "      <th class=\"blank col0\" >&nbsp;</th>\n",
       "      <th class=\"blank col1\" >&nbsp;</th>\n",
       "      <th class=\"blank col2\" >&nbsp;</th>\n",
       "      <th class=\"blank col3\" >&nbsp;</th>\n",
       "      <th class=\"blank col4\" >&nbsp;</th>\n",
       "      <th class=\"blank col5\" >&nbsp;</th>\n",
       "      <th class=\"blank col6\" >&nbsp;</th>\n",
       "    </tr>\n",
       "  </thead>\n",
       "  <tbody>\n",
       "    <tr>\n",
       "      <th id=\"T_35b44_level0_row0\" class=\"row_heading level0 row0\" >0</th>\n",
       "      <td id=\"T_35b44_row0_col0\" class=\"data row0 col0\" >0.8784</td>\n",
       "      <td id=\"T_35b44_row0_col1\" class=\"data row0 col1\" >0.8465</td>\n",
       "      <td id=\"T_35b44_row0_col2\" class=\"data row0 col2\" >0.0000</td>\n",
       "      <td id=\"T_35b44_row0_col3\" class=\"data row0 col3\" >0.0000</td>\n",
       "      <td id=\"T_35b44_row0_col4\" class=\"data row0 col4\" >0.0000</td>\n",
       "      <td id=\"T_35b44_row0_col5\" class=\"data row0 col5\" >0.0000</td>\n",
       "      <td id=\"T_35b44_row0_col6\" class=\"data row0 col6\" >0.0000</td>\n",
       "    </tr>\n",
       "    <tr>\n",
       "      <th id=\"T_35b44_level0_row1\" class=\"row_heading level0 row1\" >1</th>\n",
       "      <td id=\"T_35b44_row1_col0\" class=\"data row1 col0\" >0.8784</td>\n",
       "      <td id=\"T_35b44_row1_col1\" class=\"data row1 col1\" >0.8509</td>\n",
       "      <td id=\"T_35b44_row1_col2\" class=\"data row1 col2\" >0.0000</td>\n",
       "      <td id=\"T_35b44_row1_col3\" class=\"data row1 col3\" >0.0000</td>\n",
       "      <td id=\"T_35b44_row1_col4\" class=\"data row1 col4\" >0.0000</td>\n",
       "      <td id=\"T_35b44_row1_col5\" class=\"data row1 col5\" >0.0000</td>\n",
       "      <td id=\"T_35b44_row1_col6\" class=\"data row1 col6\" >0.0000</td>\n",
       "    </tr>\n",
       "    <tr>\n",
       "      <th id=\"T_35b44_level0_row2\" class=\"row_heading level0 row2\" >2</th>\n",
       "      <td id=\"T_35b44_row2_col0\" class=\"data row2 col0\" >0.8784</td>\n",
       "      <td id=\"T_35b44_row2_col1\" class=\"data row2 col1\" >0.8573</td>\n",
       "      <td id=\"T_35b44_row2_col2\" class=\"data row2 col2\" >0.0000</td>\n",
       "      <td id=\"T_35b44_row2_col3\" class=\"data row2 col3\" >0.0000</td>\n",
       "      <td id=\"T_35b44_row2_col4\" class=\"data row2 col4\" >0.0000</td>\n",
       "      <td id=\"T_35b44_row2_col5\" class=\"data row2 col5\" >0.0000</td>\n",
       "      <td id=\"T_35b44_row2_col6\" class=\"data row2 col6\" >0.0000</td>\n",
       "    </tr>\n",
       "    <tr>\n",
       "      <th id=\"T_35b44_level0_row3\" class=\"row_heading level0 row3\" >3</th>\n",
       "      <td id=\"T_35b44_row3_col0\" class=\"data row3 col0\" >0.8784</td>\n",
       "      <td id=\"T_35b44_row3_col1\" class=\"data row3 col1\" >0.8605</td>\n",
       "      <td id=\"T_35b44_row3_col2\" class=\"data row3 col2\" >0.0000</td>\n",
       "      <td id=\"T_35b44_row3_col3\" class=\"data row3 col3\" >0.0000</td>\n",
       "      <td id=\"T_35b44_row3_col4\" class=\"data row3 col4\" >0.0000</td>\n",
       "      <td id=\"T_35b44_row3_col5\" class=\"data row3 col5\" >0.0000</td>\n",
       "      <td id=\"T_35b44_row3_col6\" class=\"data row3 col6\" >0.0000</td>\n",
       "    </tr>\n",
       "    <tr>\n",
       "      <th id=\"T_35b44_level0_row4\" class=\"row_heading level0 row4\" >4</th>\n",
       "      <td id=\"T_35b44_row4_col0\" class=\"data row4 col0\" >0.8784</td>\n",
       "      <td id=\"T_35b44_row4_col1\" class=\"data row4 col1\" >0.8410</td>\n",
       "      <td id=\"T_35b44_row4_col2\" class=\"data row4 col2\" >0.0000</td>\n",
       "      <td id=\"T_35b44_row4_col3\" class=\"data row4 col3\" >0.0000</td>\n",
       "      <td id=\"T_35b44_row4_col4\" class=\"data row4 col4\" >0.0000</td>\n",
       "      <td id=\"T_35b44_row4_col5\" class=\"data row4 col5\" >0.0000</td>\n",
       "      <td id=\"T_35b44_row4_col6\" class=\"data row4 col6\" >0.0000</td>\n",
       "    </tr>\n",
       "    <tr>\n",
       "      <th id=\"T_35b44_level0_row5\" class=\"row_heading level0 row5\" >5</th>\n",
       "      <td id=\"T_35b44_row5_col0\" class=\"data row5 col0\" >0.8785</td>\n",
       "      <td id=\"T_35b44_row5_col1\" class=\"data row5 col1\" >0.8575</td>\n",
       "      <td id=\"T_35b44_row5_col2\" class=\"data row5 col2\" >0.0000</td>\n",
       "      <td id=\"T_35b44_row5_col3\" class=\"data row5 col3\" >0.0000</td>\n",
       "      <td id=\"T_35b44_row5_col4\" class=\"data row5 col4\" >0.0000</td>\n",
       "      <td id=\"T_35b44_row5_col5\" class=\"data row5 col5\" >0.0000</td>\n",
       "      <td id=\"T_35b44_row5_col6\" class=\"data row5 col6\" >0.0000</td>\n",
       "    </tr>\n",
       "    <tr>\n",
       "      <th id=\"T_35b44_level0_row6\" class=\"row_heading level0 row6\" >6</th>\n",
       "      <td id=\"T_35b44_row6_col0\" class=\"data row6 col0\" >0.8785</td>\n",
       "      <td id=\"T_35b44_row6_col1\" class=\"data row6 col1\" >0.8587</td>\n",
       "      <td id=\"T_35b44_row6_col2\" class=\"data row6 col2\" >0.0000</td>\n",
       "      <td id=\"T_35b44_row6_col3\" class=\"data row6 col3\" >0.0000</td>\n",
       "      <td id=\"T_35b44_row6_col4\" class=\"data row6 col4\" >0.0000</td>\n",
       "      <td id=\"T_35b44_row6_col5\" class=\"data row6 col5\" >0.0000</td>\n",
       "      <td id=\"T_35b44_row6_col6\" class=\"data row6 col6\" >0.0000</td>\n",
       "    </tr>\n",
       "    <tr>\n",
       "      <th id=\"T_35b44_level0_row7\" class=\"row_heading level0 row7\" >7</th>\n",
       "      <td id=\"T_35b44_row7_col0\" class=\"data row7 col0\" >0.8785</td>\n",
       "      <td id=\"T_35b44_row7_col1\" class=\"data row7 col1\" >0.8602</td>\n",
       "      <td id=\"T_35b44_row7_col2\" class=\"data row7 col2\" >0.0000</td>\n",
       "      <td id=\"T_35b44_row7_col3\" class=\"data row7 col3\" >0.0000</td>\n",
       "      <td id=\"T_35b44_row7_col4\" class=\"data row7 col4\" >0.0000</td>\n",
       "      <td id=\"T_35b44_row7_col5\" class=\"data row7 col5\" >0.0000</td>\n",
       "      <td id=\"T_35b44_row7_col6\" class=\"data row7 col6\" >0.0000</td>\n",
       "    </tr>\n",
       "    <tr>\n",
       "      <th id=\"T_35b44_level0_row8\" class=\"row_heading level0 row8\" >8</th>\n",
       "      <td id=\"T_35b44_row8_col0\" class=\"data row8 col0\" >0.8785</td>\n",
       "      <td id=\"T_35b44_row8_col1\" class=\"data row8 col1\" >0.8508</td>\n",
       "      <td id=\"T_35b44_row8_col2\" class=\"data row8 col2\" >0.0000</td>\n",
       "      <td id=\"T_35b44_row8_col3\" class=\"data row8 col3\" >0.0000</td>\n",
       "      <td id=\"T_35b44_row8_col4\" class=\"data row8 col4\" >0.0000</td>\n",
       "      <td id=\"T_35b44_row8_col5\" class=\"data row8 col5\" >0.0000</td>\n",
       "      <td id=\"T_35b44_row8_col6\" class=\"data row8 col6\" >0.0000</td>\n",
       "    </tr>\n",
       "    <tr>\n",
       "      <th id=\"T_35b44_level0_row9\" class=\"row_heading level0 row9\" >9</th>\n",
       "      <td id=\"T_35b44_row9_col0\" class=\"data row9 col0\" >0.8785</td>\n",
       "      <td id=\"T_35b44_row9_col1\" class=\"data row9 col1\" >0.8554</td>\n",
       "      <td id=\"T_35b44_row9_col2\" class=\"data row9 col2\" >0.0000</td>\n",
       "      <td id=\"T_35b44_row9_col3\" class=\"data row9 col3\" >0.0000</td>\n",
       "      <td id=\"T_35b44_row9_col4\" class=\"data row9 col4\" >0.0000</td>\n",
       "      <td id=\"T_35b44_row9_col5\" class=\"data row9 col5\" >0.0000</td>\n",
       "      <td id=\"T_35b44_row9_col6\" class=\"data row9 col6\" >0.0000</td>\n",
       "    </tr>\n",
       "    <tr>\n",
       "      <th id=\"T_35b44_level0_row10\" class=\"row_heading level0 row10\" >Mean</th>\n",
       "      <td id=\"T_35b44_row10_col0\" class=\"data row10 col0\" >0.8785</td>\n",
       "      <td id=\"T_35b44_row10_col1\" class=\"data row10 col1\" >0.8539</td>\n",
       "      <td id=\"T_35b44_row10_col2\" class=\"data row10 col2\" >0.0000</td>\n",
       "      <td id=\"T_35b44_row10_col3\" class=\"data row10 col3\" >0.0000</td>\n",
       "      <td id=\"T_35b44_row10_col4\" class=\"data row10 col4\" >0.0000</td>\n",
       "      <td id=\"T_35b44_row10_col5\" class=\"data row10 col5\" >0.0000</td>\n",
       "      <td id=\"T_35b44_row10_col6\" class=\"data row10 col6\" >0.0000</td>\n",
       "    </tr>\n",
       "    <tr>\n",
       "      <th id=\"T_35b44_level0_row11\" class=\"row_heading level0 row11\" >Std</th>\n",
       "      <td id=\"T_35b44_row11_col0\" class=\"data row11 col0\" >0.0001</td>\n",
       "      <td id=\"T_35b44_row11_col1\" class=\"data row11 col1\" >0.0061</td>\n",
       "      <td id=\"T_35b44_row11_col2\" class=\"data row11 col2\" >0.0000</td>\n",
       "      <td id=\"T_35b44_row11_col3\" class=\"data row11 col3\" >0.0000</td>\n",
       "      <td id=\"T_35b44_row11_col4\" class=\"data row11 col4\" >0.0000</td>\n",
       "      <td id=\"T_35b44_row11_col5\" class=\"data row11 col5\" >0.0000</td>\n",
       "      <td id=\"T_35b44_row11_col6\" class=\"data row11 col6\" >0.0000</td>\n",
       "    </tr>\n",
       "  </tbody>\n",
       "</table>\n"
      ],
      "text/plain": [
       "<pandas.io.formats.style.Styler at 0x32c994940>"
      ]
     },
     "metadata": {},
     "output_type": "display_data"
    },
    {
     "data": {
      "text/html": [],
      "text/plain": [
       "<IPython.core.display.HTML object>"
      ]
     },
     "metadata": {},
     "output_type": "display_data"
    },
    {
     "name": "stdout",
     "output_type": "stream",
     "text": [
      "Fitting 10 folds for each of 10 candidates, totalling 100 fits\n",
      "Original model was better than the tuned model, hence it will be returned. NOTE: The display metrics are for the tuned model (not the original one).\n"
     ]
    }
   ],
   "source": [
    "tuned_gbc = tune_model(gbc, optimize = 'AUC')"
   ]
  },
  {
   "cell_type": "code",
   "execution_count": 41,
   "metadata": {},
   "outputs": [
    {
     "data": {
      "text/html": [],
      "text/plain": [
       "<IPython.core.display.HTML object>"
      ]
     },
     "metadata": {},
     "output_type": "display_data"
    },
    {
     "data": {
      "image/png": "[encoded data removed]",
      "text/plain": [
       "<Figure size 800x500 with 1 Axes>"
      ]
     },
     "metadata": {},
     "output_type": "display_data"
    }
   ],
   "source": [
    "plot_model(tuned_gbc, plot='feature')"
   ]
  },
  {
   "cell_type": "code",
   "execution_count": 57,
   "metadata": {},
   "outputs": [
    {
     "data": {
      "text/html": [],
      "text/plain": [
       "<IPython.core.display.HTML object>"
      ]
     },
     "metadata": {},
     "output_type": "display_data"
    },
    {
     "data": {
      "image/png": "[encoded data removed]",
      "text/plain": [
       "<Figure size 800x550 with 1 Axes>"
      ]
     },
     "metadata": {},
     "output_type": "display_data"
    }
   ],
   "source": [
    "plot_model(tuned_gbc, plot = 'auc')"
   ]
  },
  {
   "cell_type": "markdown",
   "metadata": {},
   "source": [
    "This graph displays the **ROC (Receiver Operating Characteristic) curves** for a Gradient Boosting classifier. ROC curves are a crucial tool for evaluating the performance of binary classification models, and in this case, it appears you have a problem with two classes (0 and 1).\n",
    "\n",
    "**Let's understand the key elements:**\n",
    "\n",
    "* **X-axis (False Positive Rate):** Represents the rate of false positives, i.e., the proportion of negative examples that were incorrectly classified as positive.\n",
    "* **Y-axis (True Positive Rate):** Represents the rate of true positives, i.e., the proportion of positive examples that were correctly classified.\n",
    "* **ROC Curves:** Each curve in the graph represents the classifier's performance for a different decision threshold. A decision threshold defines the cutoff point for classifying an example as positive or negative. By varying this threshold, we obtain different points on the ROC curve.\n",
    "* **AUC (Area Under the Curve):** The area under the ROC curve is a metric that summarizes the overall performance of the classifier. The higher the AUC, the better the model is at distinguishing between the classes. An AUC of 0.5 indicates a random classifier, while an AUC of 1.0 represents a perfect classifier.\n",
    "\n",
    "**Interpreting the curves:**\n",
    "\n",
    "* **ROC of class 0, AUC = 0.86:** This curve shows the classifier's performance in identifying class 0. The AUC of 0.86 indicates good performance in distinguishing between class 0 and class 1.\n",
    "* **ROC of class 1, AUC = 0.86:** Similarly, this curve shows the performance for class 1, also with a good AUC of 0.86.\n",
    "* **micro-average ROC curve, AUC = 0.95:** This curve represents the weighted average of the individual ROC curves, considering the number of examples in each class. The AUC of 0.95 indicates excellent overall performance of the classifier.\n",
    "* **macro-average ROC curve, AUC = 0.86:** This curve represents the simple average of the individual ROC curves, without considering the number of examples in each class.\n",
    "\n",
    "**In summary:**\n",
    "\n",
    "The graph indicates that the Gradient Boosting classifier performs well in the classification task, with a high capacity to distinguish between the two classes. The different ROC curves and AUCs provide a detailed view of the model's performance in different scenarios and for each class.\n"
   ]
  },
  {
   "cell_type": "code",
   "execution_count": 58,
   "metadata": {},
   "outputs": [
    {
     "data": {
      "text/html": [],
      "text/plain": [
       "<IPython.core.display.HTML object>"
      ]
     },
     "metadata": {},
     "output_type": "display_data"
    },
    {
     "data": {
      "image/png": "[encoded data removed]",
      "text/plain": [
       "<Figure size 1000x600 with 1 Axes>"
      ]
     },
     "metadata": {},
     "output_type": "display_data"
    }
   ],
   "source": [
    "plot_model(tuned_gbc, plot = 'gain')"
   ]
  },
  {
   "cell_type": "markdown",
   "metadata": {},
   "source": [
    "This graph shows a **Cumulative Gains Curve**. It helps you see how much better your model is at finding positive cases (\"responders\") compared to just random guessing.\n",
    "\n",
    "**Here's the gist:**\n",
    "\n",
    "* **X-axis:**  The percentage of your total data, sorted by how likely your model thinks they'll respond (highest to lowest).\n",
    "* **Y-axis:**  The percentage of *all* positive cases you've found so far in that portion of your data.\n",
    "* **Higher curve = better:**  The higher your curve is above the diagonal line, the better your model is at finding responders early on.\n",
    "* **Example:** If your curve hits 80% gain at 20% of the data, it means your model found 80% of the responders by targeting just the top 20% most likely ones.\n",
    "\n",
    "This is super useful for things like marketing, where you want to find the people most likely to buy your product without wasting effort on everyone.\n"
   ]
  },
  {
   "cell_type": "markdown",
   "metadata": {},
   "source": [
    "### 5.6 - Making Predictions\n",
    "\n",
    "Before finalizing the model, it is recommended that you do a final check by making predictions on the test set and reviewing the evaluation metrics.\n",
    "\n",
    "The goal here is to check the difference in performance between the results of cross-validation and the new data.\n"
   ]
  },
  {
   "cell_type": "code",
   "execution_count": 43,
   "metadata": {},
   "outputs": [
    {
     "data": {
      "text/html": [
       "<style type=\"text/css\">\n",
       "</style>\n",
       "<table id=\"T_82316\">\n",
       "  <thead>\n",
       "    <tr>\n",
       "      <th class=\"blank level0\" >&nbsp;</th>\n",
       "      <th id=\"T_82316_level0_col0\" class=\"col_heading level0 col0\" >Model</th>\n",
       "      <th id=\"T_82316_level0_col1\" class=\"col_heading level0 col1\" >Accuracy</th>\n",
       "      <th id=\"T_82316_level0_col2\" class=\"col_heading level0 col2\" >AUC</th>\n",
       "      <th id=\"T_82316_level0_col3\" class=\"col_heading level0 col3\" >Recall</th>\n",
       "      <th id=\"T_82316_level0_col4\" class=\"col_heading level0 col4\" >Prec.</th>\n",
       "      <th id=\"T_82316_level0_col5\" class=\"col_heading level0 col5\" >F1</th>\n",
       "      <th id=\"T_82316_level0_col6\" class=\"col_heading level0 col6\" >Kappa</th>\n",
       "      <th id=\"T_82316_level0_col7\" class=\"col_heading level0 col7\" >MCC</th>\n",
       "    </tr>\n",
       "  </thead>\n",
       "  <tbody>\n",
       "    <tr>\n",
       "      <th id=\"T_82316_level0_row0\" class=\"row_heading level0 row0\" >0</th>\n",
       "      <td id=\"T_82316_row0_col0\" class=\"data row0 col0\" >Gradient Boosting Classifier</td>\n",
       "      <td id=\"T_82316_row0_col1\" class=\"data row0 col1\" >0.8785</td>\n",
       "      <td id=\"T_82316_row0_col2\" class=\"data row0 col2\" >0.8553</td>\n",
       "      <td id=\"T_82316_row0_col3\" class=\"data row0 col3\" >0.0004</td>\n",
       "      <td id=\"T_82316_row0_col4\" class=\"data row0 col4\" >0.5000</td>\n",
       "      <td id=\"T_82316_row0_col5\" class=\"data row0 col5\" >0.0007</td>\n",
       "      <td id=\"T_82316_row0_col6\" class=\"data row0 col6\" >0.0005</td>\n",
       "      <td id=\"T_82316_row0_col7\" class=\"data row0 col7\" >0.0108</td>\n",
       "    </tr>\n",
       "  </tbody>\n",
       "</table>\n"
      ],
      "text/plain": [
       "<pandas.io.formats.style.Styler at 0x32b2e32b0>"
      ]
     },
     "metadata": {},
     "output_type": "display_data"
    }
   ],
   "source": [
    "predict_model(tuned_gbc);"
   ]
  },
  {
   "cell_type": "markdown",
   "metadata": {},
   "source": [
    "### 5.7 - Finalizing the Model\n",
    "\n",
    "Finalizing the model is the last step in our project. A normal workflow in PyCaret starts with `setup()`, followed by `compare_models()` to find the best candidates based on the evaluation metrics of interest, and then proceed with parameter tuning, ensembling, stacking, etc.\n",
    "\n",
    "This workflow will eventually lead you to the best model for making predictions on unseen data. The function `finalize_model()` fits the model, including the test set previously separated within PyCaret (30% in this case).\n",
    "\n",
    "The purpose of this is to train the model on the complete dataset before deploying it to production.\n"
   ]
  },
  {
   "cell_type": "code",
   "execution_count": 44,
   "metadata": {},
   "outputs": [],
   "source": [
    "final_gbc = finalize_model(tuned_gbc)"
   ]
  },
  {
   "cell_type": "markdown",
   "metadata": {},
   "source": [
    "A Word of Caution\n",
    "\n",
    "Once the model is finalized using the `finalize_model()` function, the entire dataset, including the portion that was previously separated for testing, is used for training.\n",
    "\n",
    "Therefore, if the model is used to make predictions on the test set separated by PyCaret after the finalize function has been used, the results will be misleading, as you will be making predictions on data already seen by the model.\n",
    "\n",
    "To demonstrate this, I will use the finalized model with `predict_model()` to compare the results with those we had in the previous part.\n"
   ]
  },
  {
   "cell_type": "code",
   "execution_count": 45,
   "metadata": {},
   "outputs": [
    {
     "data": {
      "text/html": [
       "<style type=\"text/css\">\n",
       "</style>\n",
       "<table id=\"T_87386\">\n",
       "  <thead>\n",
       "    <tr>\n",
       "      <th class=\"blank level0\" >&nbsp;</th>\n",
       "      <th id=\"T_87386_level0_col0\" class=\"col_heading level0 col0\" >Model</th>\n",
       "      <th id=\"T_87386_level0_col1\" class=\"col_heading level0 col1\" >Accuracy</th>\n",
       "      <th id=\"T_87386_level0_col2\" class=\"col_heading level0 col2\" >AUC</th>\n",
       "      <th id=\"T_87386_level0_col3\" class=\"col_heading level0 col3\" >Recall</th>\n",
       "      <th id=\"T_87386_level0_col4\" class=\"col_heading level0 col4\" >Prec.</th>\n",
       "      <th id=\"T_87386_level0_col5\" class=\"col_heading level0 col5\" >F1</th>\n",
       "      <th id=\"T_87386_level0_col6\" class=\"col_heading level0 col6\" >Kappa</th>\n",
       "      <th id=\"T_87386_level0_col7\" class=\"col_heading level0 col7\" >MCC</th>\n",
       "    </tr>\n",
       "  </thead>\n",
       "  <tbody>\n",
       "    <tr>\n",
       "      <th id=\"T_87386_level0_row0\" class=\"row_heading level0 row0\" >0</th>\n",
       "      <td id=\"T_87386_row0_col0\" class=\"data row0 col0\" >Gradient Boosting Classifier</td>\n",
       "      <td id=\"T_87386_row0_col1\" class=\"data row0 col1\" >0.8788</td>\n",
       "      <td id=\"T_87386_row0_col2\" class=\"data row0 col2\" >0.8612</td>\n",
       "      <td id=\"T_87386_row0_col3\" class=\"data row0 col3\" >0.0029</td>\n",
       "      <td id=\"T_87386_row0_col4\" class=\"data row0 col4\" >0.8889</td>\n",
       "      <td id=\"T_87386_row0_col5\" class=\"data row0 col5\" >0.0057</td>\n",
       "      <td id=\"T_87386_row0_col6\" class=\"data row0 col6\" >0.0050</td>\n",
       "      <td id=\"T_87386_row0_col7\" class=\"data row0 col7\" >0.0466</td>\n",
       "    </tr>\n",
       "  </tbody>\n",
       "</table>\n"
      ],
      "text/plain": [
       "<pandas.io.formats.style.Styler at 0x32b385c10>"
      ]
     },
     "metadata": {},
     "output_type": "display_data"
    }
   ],
   "source": [
    "predict_model(final_gbc);"
   ]
  },
  {
   "cell_type": "markdown",
   "metadata": {},
   "source": [
    "Look the precision, it's increased significantly. But don't worry, lets continue..."
   ]
  },
  {
   "cell_type": "code",
   "execution_count": 46,
   "metadata": {},
   "outputs": [
    {
     "name": "stdout",
     "output_type": "stream",
     "text": [
      "Pipeline(memory=Memory(location=None),\n",
      "         steps=[('numerical_imputer',\n",
      "                 TransformerWrapper(exclude=None,\n",
      "                                    include=['id', 'age', 'driving_license',\n",
      "                                             'region_code',\n",
      "                                             'previously_insured',\n",
      "                                             'vehicle_damage', 'annual_premium',\n",
      "                                             'policy_sales_channel',\n",
      "                                             'vintage'],\n",
      "                                    transformer=SimpleImputer(add_indicator=False,\n",
      "                                                              copy=True,\n",
      "                                                              fill_value=None,\n",
      "                                                              keep_empty_features=False,\n",
      "                                                              missing_value...\n",
      "                                            criterion='friedman_mse', init=None,\n",
      "                                            learning_rate=0.1, loss='log_loss',\n",
      "                                            max_depth=3, max_features=None,\n",
      "                                            max_leaf_nodes=None,\n",
      "                                            min_impurity_decrease=0.0,\n",
      "                                            min_samples_leaf=1,\n",
      "                                            min_samples_split=2,\n",
      "                                            min_weight_fraction_leaf=0.0,\n",
      "                                            n_estimators=100,\n",
      "                                            n_iter_no_change=None,\n",
      "                                            random_state=123, subsample=1.0,\n",
      "                                            tol=0.0001, validation_fraction=0.1,\n",
      "                                            verbose=0, warm_start=False))],\n",
      "         verbose=False)\n"
     ]
    }
   ],
   "source": [
    "print(final_gbc)"
   ]
  },
  {
   "cell_type": "markdown",
   "metadata": {},
   "source": [
    "### 5.8 - Predicting on New Data\n",
    "\n",
    "The `predict_model()` function is also used to predict on datasets never seen before. The only difference is that for this we will pass the `data` parameter.\n",
    "\n",
    "In this way, we will pass as `data` the data that has not yet been seen by the model, separated previously, at the beginning of the project.\n",
    "\n",
    "This set contains 20% of the original dataset. This portion has never been exposed to PyCaret, and is perfect for simulating real new data that will be received by the model in production.\n"
   ]
  },
  {
   "cell_type": "code",
   "execution_count": 47,
   "metadata": {},
   "outputs": [
    {
     "data": {
      "text/html": [
       "<style type=\"text/css\">\n",
       "</style>\n",
       "<table id=\"T_c2ff6\">\n",
       "  <thead>\n",
       "    <tr>\n",
       "      <th class=\"blank level0\" >&nbsp;</th>\n",
       "      <th id=\"T_c2ff6_level0_col0\" class=\"col_heading level0 col0\" >Model</th>\n",
       "      <th id=\"T_c2ff6_level0_col1\" class=\"col_heading level0 col1\" >Accuracy</th>\n",
       "      <th id=\"T_c2ff6_level0_col2\" class=\"col_heading level0 col2\" >AUC</th>\n",
       "      <th id=\"T_c2ff6_level0_col3\" class=\"col_heading level0 col3\" >Recall</th>\n",
       "      <th id=\"T_c2ff6_level0_col4\" class=\"col_heading level0 col4\" >Prec.</th>\n",
       "      <th id=\"T_c2ff6_level0_col5\" class=\"col_heading level0 col5\" >F1</th>\n",
       "      <th id=\"T_c2ff6_level0_col6\" class=\"col_heading level0 col6\" >Kappa</th>\n",
       "      <th id=\"T_c2ff6_level0_col7\" class=\"col_heading level0 col7\" >MCC</th>\n",
       "    </tr>\n",
       "  </thead>\n",
       "  <tbody>\n",
       "    <tr>\n",
       "      <th id=\"T_c2ff6_level0_row0\" class=\"row_heading level0 row0\" >0</th>\n",
       "      <td id=\"T_c2ff6_row0_col0\" class=\"data row0 col0\" >Gradient Boosting Classifier</td>\n",
       "      <td id=\"T_c2ff6_row0_col1\" class=\"data row0 col1\" >0.8771</td>\n",
       "      <td id=\"T_c2ff6_row0_col2\" class=\"data row0 col2\" >0.8546</td>\n",
       "      <td id=\"T_c2ff6_row0_col3\" class=\"data row0 col3\" >0.0012</td>\n",
       "      <td id=\"T_c2ff6_row0_col4\" class=\"data row0 col4\" >0.3966</td>\n",
       "      <td id=\"T_c2ff6_row0_col5\" class=\"data row0 col5\" >0.0024</td>\n",
       "      <td id=\"T_c2ff6_row0_col6\" class=\"data row0 col6\" >0.0017</td>\n",
       "      <td id=\"T_c2ff6_row0_col7\" class=\"data row0 col7\" >0.0163</td>\n",
       "    </tr>\n",
       "  </tbody>\n",
       "</table>\n"
      ],
      "text/plain": [
       "<pandas.io.formats.style.Styler at 0x32d204610>"
      ]
     },
     "metadata": {},
     "output_type": "display_data"
    },
    {
     "data": {
      "text/html": [
       "<div>\n",
       "<style scoped>\n",
       "    .dataframe tbody tr th:only-of-type {\n",
       "        vertical-align: middle;\n",
       "    }\n",
       "\n",
       "    .dataframe tbody tr th {\n",
       "        vertical-align: top;\n",
       "    }\n",
       "\n",
       "    .dataframe thead th {\n",
       "        text-align: right;\n",
       "    }\n",
       "</style>\n",
       "<table border=\"1\" class=\"dataframe\">\n",
       "  <thead>\n",
       "    <tr style=\"text-align: right;\">\n",
       "      <th></th>\n",
       "      <th>id</th>\n",
       "      <th>gender</th>\n",
       "      <th>age</th>\n",
       "      <th>driving_license</th>\n",
       "      <th>region_code</th>\n",
       "      <th>previously_insured</th>\n",
       "      <th>vehicle_age</th>\n",
       "      <th>vehicle_damage</th>\n",
       "      <th>annual_premium</th>\n",
       "      <th>policy_sales_channel</th>\n",
       "      <th>vintage</th>\n",
       "      <th>response</th>\n",
       "      <th>prediction_label</th>\n",
       "      <th>prediction_score</th>\n",
       "    </tr>\n",
       "  </thead>\n",
       "  <tbody>\n",
       "    <tr>\n",
       "      <th>0</th>\n",
       "      <td>1</td>\n",
       "      <td>Male</td>\n",
       "      <td>44</td>\n",
       "      <td>1</td>\n",
       "      <td>28.0</td>\n",
       "      <td>0</td>\n",
       "      <td>over_2_years</td>\n",
       "      <td>1</td>\n",
       "      <td>40454.0</td>\n",
       "      <td>26.0</td>\n",
       "      <td>217</td>\n",
       "      <td>1</td>\n",
       "      <td>0</td>\n",
       "      <td>0.7023</td>\n",
       "    </tr>\n",
       "    <tr>\n",
       "      <th>1</th>\n",
       "      <td>2</td>\n",
       "      <td>Male</td>\n",
       "      <td>76</td>\n",
       "      <td>1</td>\n",
       "      <td>3.0</td>\n",
       "      <td>0</td>\n",
       "      <td>between_1_2_year</td>\n",
       "      <td>0</td>\n",
       "      <td>33536.0</td>\n",
       "      <td>26.0</td>\n",
       "      <td>183</td>\n",
       "      <td>0</td>\n",
       "      <td>0</td>\n",
       "      <td>0.9410</td>\n",
       "    </tr>\n",
       "    <tr>\n",
       "      <th>2</th>\n",
       "      <td>4</td>\n",
       "      <td>Male</td>\n",
       "      <td>21</td>\n",
       "      <td>1</td>\n",
       "      <td>11.0</td>\n",
       "      <td>1</td>\n",
       "      <td>below_1_year</td>\n",
       "      <td>0</td>\n",
       "      <td>28619.0</td>\n",
       "      <td>152.0</td>\n",
       "      <td>203</td>\n",
       "      <td>0</td>\n",
       "      <td>0</td>\n",
       "      <td>0.9990</td>\n",
       "    </tr>\n",
       "    <tr>\n",
       "      <th>3</th>\n",
       "      <td>5</td>\n",
       "      <td>Female</td>\n",
       "      <td>29</td>\n",
       "      <td>1</td>\n",
       "      <td>41.0</td>\n",
       "      <td>1</td>\n",
       "      <td>below_1_year</td>\n",
       "      <td>0</td>\n",
       "      <td>27496.0</td>\n",
       "      <td>152.0</td>\n",
       "      <td>39</td>\n",
       "      <td>0</td>\n",
       "      <td>0</td>\n",
       "      <td>0.9987</td>\n",
       "    </tr>\n",
       "    <tr>\n",
       "      <th>4</th>\n",
       "      <td>8</td>\n",
       "      <td>Female</td>\n",
       "      <td>56</td>\n",
       "      <td>1</td>\n",
       "      <td>28.0</td>\n",
       "      <td>0</td>\n",
       "      <td>between_1_2_year</td>\n",
       "      <td>1</td>\n",
       "      <td>32031.0</td>\n",
       "      <td>26.0</td>\n",
       "      <td>72</td>\n",
       "      <td>1</td>\n",
       "      <td>0</td>\n",
       "      <td>0.5440</td>\n",
       "    </tr>\n",
       "  </tbody>\n",
       "</table>\n",
       "</div>"
      ],
      "text/plain": [
       "   id  gender  age  driving_license  region_code  previously_insured  \\\n",
       "0   1    Male   44                1         28.0                   0   \n",
       "1   2    Male   76                1          3.0                   0   \n",
       "2   4    Male   21                1         11.0                   1   \n",
       "3   5  Female   29                1         41.0                   1   \n",
       "4   8  Female   56                1         28.0                   0   \n",
       "\n",
       "        vehicle_age  vehicle_damage  annual_premium  policy_sales_channel  \\\n",
       "0      over_2_years               1         40454.0                  26.0   \n",
       "1  between_1_2_year               0         33536.0                  26.0   \n",
       "2      below_1_year               0         28619.0                 152.0   \n",
       "3      below_1_year               0         27496.0                 152.0   \n",
       "4  between_1_2_year               1         32031.0                  26.0   \n",
       "\n",
       "   vintage  response  prediction_label  prediction_score  \n",
       "0      217         1                 0            0.7023  \n",
       "1      183         0                 0            0.9410  \n",
       "2      203         0                 0            0.9990  \n",
       "3       39         0                 0            0.9987  \n",
       "4       72         1                 0            0.5440  "
      ]
     },
     "execution_count": 47,
     "metadata": {},
     "output_type": "execute_result"
    }
   ],
   "source": [
    "unseen_predictions = predict_model(final_gbc, data=test)\n",
    "unseen_predictions.head()"
   ]
  },
  {
   "cell_type": "markdown",
   "metadata": {},
   "source": [
    "### 5.9 - Saving the Model\n",
    "\n",
    "Now that we have finished our work with the model, it's time to worry about how to keep it usable and ready to make new predictions on new data.\n",
    "\n",
    "With the `save_model()` function we are able to save our trained model, ready for use. Inside it is also contained the entire preprocessing pipeline that was used. Just pass the dataset to make the predictions.\n"
   ]
  },
  {
   "cell_type": "code",
   "execution_count": 48,
   "metadata": {},
   "outputs": [
    {
     "name": "stdout",
     "output_type": "stream",
     "text": [
      "Transformation Pipeline and Model Successfully Saved\n"
     ]
    },
    {
     "data": {
      "text/plain": [
       "(Pipeline(memory=Memory(location=None),\n",
       "          steps=[('numerical_imputer',\n",
       "                  TransformerWrapper(exclude=None,\n",
       "                                     include=['id', 'age', 'driving_license',\n",
       "                                              'region_code',\n",
       "                                              'previously_insured',\n",
       "                                              'vehicle_damage', 'annual_premium',\n",
       "                                              'policy_sales_channel',\n",
       "                                              'vintage'],\n",
       "                                     transformer=SimpleImputer(add_indicator=False,\n",
       "                                                               copy=True,\n",
       "                                                               fill_value=None,\n",
       "                                                               keep_empty_features=False,\n",
       "                                                               missing_value...\n",
       "                                             criterion='friedman_mse', init=None,\n",
       "                                             learning_rate=0.1, loss='log_loss',\n",
       "                                             max_depth=3, max_features=None,\n",
       "                                             max_leaf_nodes=None,\n",
       "                                             min_impurity_decrease=0.0,\n",
       "                                             min_samples_leaf=1,\n",
       "                                             min_samples_split=2,\n",
       "                                             min_weight_fraction_leaf=0.0,\n",
       "                                             n_estimators=100,\n",
       "                                             n_iter_no_change=None,\n",
       "                                             random_state=123, subsample=1.0,\n",
       "                                             tol=0.0001, validation_fraction=0.1,\n",
       "                                             verbose=0, warm_start=False))],\n",
       "          verbose=False),\n",
       " 'Modelo_Final_19_11_2024.pkl')"
      ]
     },
     "execution_count": 48,
     "metadata": {},
     "output_type": "execute_result"
    }
   ],
   "source": [
    "save_model(final_gbc,'Modelo_Final_19_11_2024')"
   ]
  },
  {
   "cell_type": "code",
   "execution_count": null,
   "metadata": {},
   "outputs": [],
   "source": []
  }
 ],
 "metadata": {
  "kernelspec": {
   "display_name": ".venv",
   "language": "python",
   "name": "python3"
  },
  "language_info": {
   "codemirror_mode": {
    "name": "ipython",
    "version": 3
   },
   "file_extension": ".py",
   "mimetype": "text/x-python",
   "name": "python",
   "nbconvert_exporter": "python",
   "pygments_lexer": "ipython3",
   "version": "3.9.6"
  }
 },
 "nbformat": 4,
 "nbformat_minor": 2
}
